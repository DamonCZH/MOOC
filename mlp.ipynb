{
 "cells": [
  {
   "cell_type": "markdown",
   "metadata": {
    "colab_type": "text",
    "id": "FP3XKtoLcNKS"
   },
   "source": [
    "读取json格式数据"
   ]
  },
  {
   "cell_type": "code",
   "execution_count": 27,
   "metadata": {
    "colab": {
     "base_uri": "https://localhost:8080/",
     "height": 195
    },
    "colab_type": "code",
    "id": "8VGEUNjqUjue",
    "outputId": "1cfdc4c7-8319-4080-94c5-0a8ff4869740"
   },
   "outputs": [
    {
     "data": {
      "text/html": [
       "<div>\n",
       "<style scoped>\n",
       "    .dataframe tbody tr th:only-of-type {\n",
       "        vertical-align: middle;\n",
       "    }\n",
       "\n",
       "    .dataframe tbody tr th {\n",
       "        vertical-align: top;\n",
       "    }\n",
       "\n",
       "    .dataframe thead th {\n",
       "        text-align: right;\n",
       "    }\n",
       "</style>\n",
       "<table border=\"1\" class=\"dataframe\">\n",
       "  <thead>\n",
       "    <tr style=\"text-align: right;\">\n",
       "      <th></th>\n",
       "      <th>x</th>\n",
       "      <th>y</th>\n",
       "    </tr>\n",
       "  </thead>\n",
       "  <tbody>\n",
       "    <tr>\n",
       "      <th>0</th>\n",
       "      <td>[0, 0, 0, 0, 0, 0, 0, 0, 0, 0, 0, 0, 0, 0, 0, ...</td>\n",
       "      <td>0</td>\n",
       "    </tr>\n",
       "    <tr>\n",
       "      <th>1</th>\n",
       "      <td>[0, 0, 0, 0, 0, 0, 0, 0, 0, 0, 0, 0, 0, 0, 0, ...</td>\n",
       "      <td>2</td>\n",
       "    </tr>\n",
       "    <tr>\n",
       "      <th>2</th>\n",
       "      <td>[0, 0, 0, 0, 0, 0, 0, 0, 0, 0, 0, 0, 0, 0, 0, ...</td>\n",
       "      <td>2</td>\n",
       "    </tr>\n",
       "    <tr>\n",
       "      <th>3</th>\n",
       "      <td>[2, 2, 2, 0, 0, 0, 0, 0, 0, 0, 0, 0, 0, 0, 0, ...</td>\n",
       "      <td>0</td>\n",
       "    </tr>\n",
       "    <tr>\n",
       "      <th>4</th>\n",
       "      <td>[0, 0, 0, 0, 0, 0, 0, 0, 0, 0, 0, 0, 0, 0, 0, ...</td>\n",
       "      <td>0</td>\n",
       "    </tr>\n",
       "  </tbody>\n",
       "</table>\n",
       "</div>"
      ],
      "text/plain": [
       "                                                   x  y\n",
       "0  [0, 0, 0, 0, 0, 0, 0, 0, 0, 0, 0, 0, 0, 0, 0, ...  0\n",
       "1  [0, 0, 0, 0, 0, 0, 0, 0, 0, 0, 0, 0, 0, 0, 0, ...  2\n",
       "2  [0, 0, 0, 0, 0, 0, 0, 0, 0, 0, 0, 0, 0, 0, 0, ...  2\n",
       "3  [2, 2, 2, 0, 0, 0, 0, 0, 0, 0, 0, 0, 0, 0, 0, ...  0\n",
       "4  [0, 0, 0, 0, 0, 0, 0, 0, 0, 0, 0, 0, 0, 0, 0, ...  0"
      ]
     },
     "execution_count": 27,
     "metadata": {
      "tags": []
     },
     "output_type": "execute_result"
    }
   ],
   "source": [
    "import tensorflow as tf \n",
    "import numpy as np \n",
    "import pandas as pd \n",
    "\n",
    "# 读取数据\n",
    "data = pd.read_json('data.json')\n",
    "data.head()"
   ]
  },
  {
   "cell_type": "markdown",
   "metadata": {
    "colab_type": "text",
    "id": "Pk1R8-xucTvD"
   },
   "source": [
    "将数据转换为numpy array，以便输入模型训练"
   ]
  },
  {
   "cell_type": "code",
   "execution_count": 28,
   "metadata": {
    "colab": {
     "base_uri": "https://localhost:8080/",
     "height": 34
    },
    "colab_type": "code",
    "id": "kZYJ9CYTVcYd",
    "outputId": "6f5e006c-475c-4154-ee5b-febce3d06b40"
   },
   "outputs": [
    {
     "name": "stdout",
     "output_type": "stream",
     "text": [
      "[0.     0.     0.     ... 0.0036 0.     0.    ]\n"
     ]
    }
   ],
   "source": [
    "temp_data = []\n",
    "for i in range(len(data['x'])):\n",
    "  temp_data.append(np.asarray(data['x'][i]))\n",
    "\n",
    "print(temp_data[0])\n",
    "\n",
    "#dataset = tf.data.Dataset.from_tensor_slices((data['x'].values, data['y'].values))"
   ]
  },
  {
   "cell_type": "markdown",
   "metadata": {
    "colab_type": "text",
    "id": "A5wIqLlUekbB"
   },
   "source": [
    "将数据和对应的标签分别提取出来，并将标签编码为独热码"
   ]
  },
  {
   "cell_type": "code",
   "execution_count": 29,
   "metadata": {
    "colab": {},
    "colab_type": "code",
    "id": "aYLEhJwwYmgg"
   },
   "outputs": [],
   "source": [
    "alldata = np.asarray(temp_data)\n",
    "allabel = np.asarray(data['y'])\n"
   ]
  },
  {
   "cell_type": "code",
   "execution_count": 30,
   "metadata": {
    "colab": {},
    "colab_type": "code",
    "id": "q9JLtX0Me5xN"
   },
   "outputs": [],
   "source": [
    "from keras.utils.np_utils import to_categorical\n",
    "allabel = to_categorical(allabel)"
   ]
  },
  {
   "cell_type": "code",
   "execution_count": 31,
   "metadata": {
    "colab": {
     "base_uri": "https://localhost:8080/",
     "height": 34
    },
    "colab_type": "code",
    "id": "I3OfwPBnqmac",
    "outputId": "b7daf3bf-949a-4ebd-d716-112dbba7862e"
   },
   "outputs": [
    {
     "name": "stdout",
     "output_type": "stream",
     "text": [
      "<class 'numpy.ndarray'>\n"
     ]
    }
   ],
   "source": [
    "print(type(allabel[0]))"
   ]
  },
  {
   "cell_type": "markdown",
   "metadata": {
    "colab_type": "text",
    "id": "iH9iyCaserFC"
   },
   "source": [
    "将所有数据分割为训练集和测试集"
   ]
  },
  {
   "cell_type": "code",
   "execution_count": 32,
   "metadata": {
    "colab": {},
    "colab_type": "code",
    "id": "abFW_tvKzYbc"
   },
   "outputs": [],
   "source": [
    "x_train = alldata[:3200]\n",
    "x_test = alldata[3200:]\n",
    "y_train = allabel[:3200]\n",
    "y_test = allabel[3200:]"
   ]
  },
  {
   "cell_type": "markdown",
   "metadata": {
    "colab_type": "text",
    "id": "gVsLCqOwexui"
   },
   "source": [
    "搭建网络"
   ]
  },
  {
   "cell_type": "code",
   "execution_count": 54,
   "metadata": {
    "colab": {},
    "colab_type": "code",
    "id": "G7i8gFhRgQA9"
   },
   "outputs": [],
   "source": [
    "from tensorflow.keras import models\n",
    "from tensorflow.keras import layers\n",
    "model = models.Sequential()\n",
    "model.add(layers.Dense(64, activation='relu', input_shape=(1147,)))\n",
    "model.add(layers.Dense(64, activation='relu'))\n",
    "model.add(layers.Dense(3, activation='softmax'))\n",
    "\n",
    "model.compile(optimizer='rmsprop',\n",
    "        loss='categorical_crossentropy',\n",
    "        metrics=['accuracy'])"
   ]
  },
  {
   "cell_type": "markdown",
   "metadata": {
    "colab_type": "text",
    "id": "XLDlJovwezPf"
   },
   "source": [
    "训练网络"
   ]
  },
  {
   "cell_type": "code",
   "execution_count": 55,
   "metadata": {
    "colab": {
     "base_uri": "https://localhost:8080/",
     "height": 1000
    },
    "colab_type": "code",
    "id": "ssNv-kZso6kS",
    "outputId": "cdaff059-59ed-44d4-cb9d-299adaaaf355"
   },
   "outputs": [
    {
     "name": "stdout",
     "output_type": "stream",
     "text": [
      "Epoch 1/100\n",
      "32/32 [==============================] - 0s 7ms/step - loss: 0.9689 - accuracy: 0.6438 - val_loss: 0.8556 - val_accuracy: 0.7083\n",
      "Epoch 2/100\n",
      "32/32 [==============================] - 0s 4ms/step - loss: 0.7987 - accuracy: 0.6881 - val_loss: 0.7429 - val_accuracy: 0.6913\n",
      "Epoch 3/100\n",
      "32/32 [==============================] - 0s 4ms/step - loss: 0.7276 - accuracy: 0.7056 - val_loss: 0.7173 - val_accuracy: 0.7037\n",
      "Epoch 4/100\n",
      "32/32 [==============================] - 0s 4ms/step - loss: 0.6878 - accuracy: 0.7281 - val_loss: 0.7073 - val_accuracy: 0.7128\n",
      "Epoch 5/100\n",
      "32/32 [==============================] - 0s 4ms/step - loss: 0.6586 - accuracy: 0.7319 - val_loss: 0.7090 - val_accuracy: 0.7060\n",
      "Epoch 6/100\n",
      "32/32 [==============================] - 0s 4ms/step - loss: 0.6345 - accuracy: 0.7456 - val_loss: 0.7108 - val_accuracy: 0.7026\n",
      "Epoch 7/100\n",
      "32/32 [==============================] - 0s 4ms/step - loss: 0.6132 - accuracy: 0.7538 - val_loss: 0.7213 - val_accuracy: 0.7026\n",
      "Epoch 8/100\n",
      "32/32 [==============================] - 0s 4ms/step - loss: 0.5953 - accuracy: 0.7619 - val_loss: 0.7245 - val_accuracy: 0.6992\n",
      "Epoch 9/100\n",
      "32/32 [==============================] - 0s 4ms/step - loss: 0.5800 - accuracy: 0.7684 - val_loss: 0.7315 - val_accuracy: 0.7015\n",
      "Epoch 10/100\n",
      "32/32 [==============================] - 0s 4ms/step - loss: 0.5655 - accuracy: 0.7778 - val_loss: 0.7420 - val_accuracy: 0.7026\n",
      "Epoch 11/100\n",
      "32/32 [==============================] - 0s 4ms/step - loss: 0.5532 - accuracy: 0.7800 - val_loss: 0.7483 - val_accuracy: 0.7003\n",
      "Epoch 12/100\n",
      "32/32 [==============================] - 0s 4ms/step - loss: 0.5426 - accuracy: 0.7869 - val_loss: 0.7581 - val_accuracy: 0.6981\n",
      "Epoch 13/100\n",
      "32/32 [==============================] - 0s 4ms/step - loss: 0.5344 - accuracy: 0.7891 - val_loss: 0.7688 - val_accuracy: 0.6958\n",
      "Epoch 14/100\n",
      "32/32 [==============================] - 0s 4ms/step - loss: 0.5265 - accuracy: 0.7928 - val_loss: 0.7785 - val_accuracy: 0.6958\n",
      "Epoch 15/100\n",
      "32/32 [==============================] - 0s 4ms/step - loss: 0.5199 - accuracy: 0.7931 - val_loss: 0.7888 - val_accuracy: 0.6958\n",
      "Epoch 16/100\n",
      "32/32 [==============================] - 0s 4ms/step - loss: 0.5143 - accuracy: 0.7978 - val_loss: 0.7979 - val_accuracy: 0.6924\n",
      "Epoch 17/100\n",
      "32/32 [==============================] - 0s 4ms/step - loss: 0.5080 - accuracy: 0.7969 - val_loss: 0.8124 - val_accuracy: 0.6958\n",
      "Epoch 18/100\n",
      "32/32 [==============================] - 0s 4ms/step - loss: 0.5051 - accuracy: 0.7994 - val_loss: 0.8202 - val_accuracy: 0.6958\n",
      "Epoch 19/100\n",
      "32/32 [==============================] - 0s 4ms/step - loss: 0.4990 - accuracy: 0.8003 - val_loss: 0.8315 - val_accuracy: 0.6935\n",
      "Epoch 20/100\n",
      "32/32 [==============================] - 0s 4ms/step - loss: 0.4977 - accuracy: 0.8016 - val_loss: 0.8355 - val_accuracy: 0.6901\n",
      "Epoch 21/100\n",
      "32/32 [==============================] - 0s 4ms/step - loss: 0.4927 - accuracy: 0.8044 - val_loss: 0.8680 - val_accuracy: 0.6924\n",
      "Epoch 22/100\n",
      "32/32 [==============================] - 0s 4ms/step - loss: 0.4898 - accuracy: 0.8031 - val_loss: 0.8674 - val_accuracy: 0.6935\n",
      "Epoch 23/100\n",
      "32/32 [==============================] - 0s 4ms/step - loss: 0.4886 - accuracy: 0.8047 - val_loss: 0.8832 - val_accuracy: 0.6935\n",
      "Epoch 24/100\n",
      "32/32 [==============================] - 0s 4ms/step - loss: 0.4830 - accuracy: 0.8066 - val_loss: 0.8794 - val_accuracy: 0.6901\n",
      "Epoch 25/100\n",
      "32/32 [==============================] - 0s 4ms/step - loss: 0.4814 - accuracy: 0.8041 - val_loss: 0.8978 - val_accuracy: 0.6890\n",
      "Epoch 26/100\n",
      "32/32 [==============================] - 0s 4ms/step - loss: 0.4797 - accuracy: 0.8097 - val_loss: 0.9045 - val_accuracy: 0.7003\n",
      "Epoch 27/100\n",
      "32/32 [==============================] - 0s 4ms/step - loss: 0.4792 - accuracy: 0.8044 - val_loss: 0.9141 - val_accuracy: 0.7015\n",
      "Epoch 28/100\n",
      "32/32 [==============================] - 0s 4ms/step - loss: 0.4761 - accuracy: 0.8066 - val_loss: 0.9262 - val_accuracy: 0.6822\n",
      "Epoch 29/100\n",
      "32/32 [==============================] - 0s 4ms/step - loss: 0.4757 - accuracy: 0.8053 - val_loss: 0.9506 - val_accuracy: 0.6833\n",
      "Epoch 30/100\n",
      "32/32 [==============================] - 0s 4ms/step - loss: 0.4720 - accuracy: 0.8100 - val_loss: 0.9445 - val_accuracy: 0.6901\n",
      "Epoch 31/100\n",
      "32/32 [==============================] - 0s 4ms/step - loss: 0.4709 - accuracy: 0.8081 - val_loss: 0.9628 - val_accuracy: 0.6879\n",
      "Epoch 32/100\n",
      "32/32 [==============================] - 0s 4ms/step - loss: 0.4713 - accuracy: 0.8125 - val_loss: 0.9638 - val_accuracy: 0.6867\n",
      "Epoch 33/100\n",
      "32/32 [==============================] - 0s 4ms/step - loss: 0.4681 - accuracy: 0.8122 - val_loss: 0.9720 - val_accuracy: 0.6856\n",
      "Epoch 34/100\n",
      "32/32 [==============================] - 0s 4ms/step - loss: 0.4685 - accuracy: 0.8072 - val_loss: 0.9860 - val_accuracy: 0.6879\n",
      "Epoch 35/100\n",
      "32/32 [==============================] - 0s 4ms/step - loss: 0.4664 - accuracy: 0.8069 - val_loss: 0.9923 - val_accuracy: 0.6947\n",
      "Epoch 36/100\n",
      "32/32 [==============================] - 0s 4ms/step - loss: 0.4655 - accuracy: 0.8087 - val_loss: 0.9930 - val_accuracy: 0.6913\n",
      "Epoch 37/100\n",
      "32/32 [==============================] - 0s 4ms/step - loss: 0.4649 - accuracy: 0.8116 - val_loss: 1.0040 - val_accuracy: 0.6856\n",
      "Epoch 38/100\n",
      "32/32 [==============================] - 0s 4ms/step - loss: 0.4635 - accuracy: 0.8087 - val_loss: 1.0250 - val_accuracy: 0.6890\n",
      "Epoch 39/100\n",
      "32/32 [==============================] - 0s 4ms/step - loss: 0.4629 - accuracy: 0.8128 - val_loss: 1.0162 - val_accuracy: 0.6969\n",
      "Epoch 40/100\n",
      "32/32 [==============================] - 0s 4ms/step - loss: 0.4624 - accuracy: 0.8106 - val_loss: 1.0247 - val_accuracy: 0.7015\n",
      "Epoch 41/100\n",
      "32/32 [==============================] - 0s 4ms/step - loss: 0.4628 - accuracy: 0.8122 - val_loss: 1.0284 - val_accuracy: 0.6992\n",
      "Epoch 42/100\n",
      "32/32 [==============================] - 0s 4ms/step - loss: 0.4598 - accuracy: 0.8138 - val_loss: 1.0387 - val_accuracy: 0.7003\n",
      "Epoch 43/100\n",
      "32/32 [==============================] - 0s 4ms/step - loss: 0.4600 - accuracy: 0.8072 - val_loss: 1.0448 - val_accuracy: 0.6935\n",
      "Epoch 44/100\n",
      "32/32 [==============================] - 0s 4ms/step - loss: 0.4602 - accuracy: 0.8122 - val_loss: 1.0478 - val_accuracy: 0.6867\n",
      "Epoch 45/100\n",
      "32/32 [==============================] - 0s 4ms/step - loss: 0.4582 - accuracy: 0.8156 - val_loss: 1.0704 - val_accuracy: 0.6947\n",
      "Epoch 46/100\n",
      "32/32 [==============================] - 0s 4ms/step - loss: 0.4580 - accuracy: 0.8119 - val_loss: 1.0723 - val_accuracy: 0.7015\n",
      "Epoch 47/100\n",
      "32/32 [==============================] - 0s 4ms/step - loss: 0.4605 - accuracy: 0.8112 - val_loss: 1.0625 - val_accuracy: 0.7106\n",
      "Epoch 48/100\n",
      "32/32 [==============================] - 0s 4ms/step - loss: 0.4581 - accuracy: 0.8069 - val_loss: 1.0726 - val_accuracy: 0.7072\n",
      "Epoch 49/100\n",
      "32/32 [==============================] - 0s 4ms/step - loss: 0.4545 - accuracy: 0.8184 - val_loss: 1.0886 - val_accuracy: 0.6981\n",
      "Epoch 50/100\n",
      "32/32 [==============================] - 0s 4ms/step - loss: 0.4587 - accuracy: 0.8103 - val_loss: 1.0846 - val_accuracy: 0.7060\n",
      "Epoch 51/100\n",
      "32/32 [==============================] - 0s 4ms/step - loss: 0.4556 - accuracy: 0.8122 - val_loss: 1.0866 - val_accuracy: 0.7049\n",
      "Epoch 52/100\n",
      "32/32 [==============================] - 0s 5ms/step - loss: 0.4549 - accuracy: 0.8128 - val_loss: 1.0924 - val_accuracy: 0.7094\n",
      "Epoch 53/100\n",
      "32/32 [==============================] - 0s 4ms/step - loss: 0.4562 - accuracy: 0.8116 - val_loss: 1.0968 - val_accuracy: 0.7208\n",
      "Epoch 54/100\n",
      "32/32 [==============================] - 0s 4ms/step - loss: 0.4565 - accuracy: 0.8103 - val_loss: 1.1212 - val_accuracy: 0.6810\n",
      "Epoch 55/100\n",
      "32/32 [==============================] - 0s 4ms/step - loss: 0.4547 - accuracy: 0.8112 - val_loss: 1.1107 - val_accuracy: 0.7083\n",
      "Epoch 56/100\n",
      "32/32 [==============================] - 0s 4ms/step - loss: 0.4532 - accuracy: 0.8153 - val_loss: 1.1177 - val_accuracy: 0.7117\n",
      "Epoch 57/100\n",
      "32/32 [==============================] - 0s 4ms/step - loss: 0.4541 - accuracy: 0.8116 - val_loss: 1.1166 - val_accuracy: 0.7208\n",
      "Epoch 58/100\n",
      "32/32 [==============================] - 0s 4ms/step - loss: 0.4526 - accuracy: 0.8156 - val_loss: 1.1214 - val_accuracy: 0.7128\n",
      "Epoch 59/100\n",
      "32/32 [==============================] - 0s 4ms/step - loss: 0.4540 - accuracy: 0.8134 - val_loss: 1.1255 - val_accuracy: 0.7196\n",
      "Epoch 60/100\n",
      "32/32 [==============================] - 0s 4ms/step - loss: 0.4519 - accuracy: 0.8191 - val_loss: 1.1373 - val_accuracy: 0.7185\n",
      "Epoch 61/100\n",
      "32/32 [==============================] - 0s 4ms/step - loss: 0.4521 - accuracy: 0.8112 - val_loss: 1.1420 - val_accuracy: 0.7242\n",
      "Epoch 62/100\n",
      "32/32 [==============================] - 0s 5ms/step - loss: 0.4517 - accuracy: 0.8125 - val_loss: 1.1532 - val_accuracy: 0.7072\n",
      "Epoch 63/100\n",
      "32/32 [==============================] - 0s 4ms/step - loss: 0.4509 - accuracy: 0.8163 - val_loss: 1.1539 - val_accuracy: 0.7083\n",
      "Epoch 64/100\n",
      "32/32 [==============================] - 0s 4ms/step - loss: 0.4518 - accuracy: 0.8150 - val_loss: 1.1480 - val_accuracy: 0.7128\n",
      "Epoch 65/100\n",
      "32/32 [==============================] - 0s 4ms/step - loss: 0.4511 - accuracy: 0.8134 - val_loss: 1.1548 - val_accuracy: 0.7072\n",
      "Epoch 66/100\n",
      "32/32 [==============================] - 0s 4ms/step - loss: 0.4509 - accuracy: 0.8144 - val_loss: 1.1571 - val_accuracy: 0.7219\n",
      "Epoch 67/100\n",
      "32/32 [==============================] - 0s 4ms/step - loss: 0.4510 - accuracy: 0.8159 - val_loss: 1.1544 - val_accuracy: 0.7174\n",
      "Epoch 68/100\n",
      "32/32 [==============================] - 0s 4ms/step - loss: 0.4495 - accuracy: 0.8188 - val_loss: 1.1564 - val_accuracy: 0.7072\n",
      "Epoch 69/100\n",
      "32/32 [==============================] - 0s 4ms/step - loss: 0.4511 - accuracy: 0.8163 - val_loss: 1.1589 - val_accuracy: 0.7162\n",
      "Epoch 70/100\n",
      "32/32 [==============================] - 0s 4ms/step - loss: 0.4515 - accuracy: 0.8141 - val_loss: 1.1633 - val_accuracy: 0.7094\n",
      "Epoch 71/100\n",
      "32/32 [==============================] - 0s 4ms/step - loss: 0.4498 - accuracy: 0.8172 - val_loss: 1.1644 - val_accuracy: 0.7094\n",
      "Epoch 72/100\n",
      "32/32 [==============================] - 0s 4ms/step - loss: 0.4476 - accuracy: 0.8156 - val_loss: 1.1799 - val_accuracy: 0.7174\n",
      "Epoch 73/100\n",
      "32/32 [==============================] - 0s 4ms/step - loss: 0.4511 - accuracy: 0.8166 - val_loss: 1.1743 - val_accuracy: 0.7140\n",
      "Epoch 74/100\n",
      "32/32 [==============================] - 0s 4ms/step - loss: 0.4505 - accuracy: 0.8147 - val_loss: 1.1749 - val_accuracy: 0.7094\n",
      "Epoch 75/100\n",
      "32/32 [==============================] - 0s 4ms/step - loss: 0.4499 - accuracy: 0.8169 - val_loss: 1.1842 - val_accuracy: 0.7072\n",
      "Epoch 76/100\n",
      "32/32 [==============================] - 0s 4ms/step - loss: 0.4493 - accuracy: 0.8172 - val_loss: 1.1878 - val_accuracy: 0.7151\n",
      "Epoch 77/100\n",
      "32/32 [==============================] - 0s 4ms/step - loss: 0.4486 - accuracy: 0.8116 - val_loss: 1.1911 - val_accuracy: 0.7208\n",
      "Epoch 78/100\n",
      "32/32 [==============================] - 0s 4ms/step - loss: 0.4500 - accuracy: 0.8156 - val_loss: 1.1922 - val_accuracy: 0.7060\n",
      "Epoch 79/100\n",
      "32/32 [==============================] - 0s 4ms/step - loss: 0.4483 - accuracy: 0.8194 - val_loss: 1.1921 - val_accuracy: 0.7162\n",
      "Epoch 80/100\n",
      "32/32 [==============================] - 0s 4ms/step - loss: 0.4470 - accuracy: 0.8153 - val_loss: 1.1940 - val_accuracy: 0.7196\n",
      "Epoch 81/100\n",
      "32/32 [==============================] - 0s 4ms/step - loss: 0.4475 - accuracy: 0.8156 - val_loss: 1.1935 - val_accuracy: 0.7106\n",
      "Epoch 82/100\n",
      "32/32 [==============================] - 0s 4ms/step - loss: 0.4479 - accuracy: 0.8128 - val_loss: 1.2048 - val_accuracy: 0.7185\n",
      "Epoch 83/100\n",
      "32/32 [==============================] - 0s 4ms/step - loss: 0.4479 - accuracy: 0.8175 - val_loss: 1.2052 - val_accuracy: 0.7219\n",
      "Epoch 84/100\n",
      "32/32 [==============================] - 0s 4ms/step - loss: 0.4475 - accuracy: 0.8169 - val_loss: 1.1960 - val_accuracy: 0.7208\n",
      "Epoch 85/100\n",
      "32/32 [==============================] - 0s 4ms/step - loss: 0.4483 - accuracy: 0.8169 - val_loss: 1.2020 - val_accuracy: 0.7185\n",
      "Epoch 86/100\n",
      "32/32 [==============================] - 0s 4ms/step - loss: 0.4474 - accuracy: 0.8169 - val_loss: 1.2096 - val_accuracy: 0.7196\n",
      "Epoch 87/100\n",
      "32/32 [==============================] - 0s 4ms/step - loss: 0.4464 - accuracy: 0.8169 - val_loss: 1.2201 - val_accuracy: 0.7106\n",
      "Epoch 88/100\n",
      "32/32 [==============================] - 0s 4ms/step - loss: 0.4481 - accuracy: 0.8172 - val_loss: 1.2288 - val_accuracy: 0.6981\n",
      "Epoch 89/100\n",
      "32/32 [==============================] - 0s 4ms/step - loss: 0.4469 - accuracy: 0.8153 - val_loss: 1.2164 - val_accuracy: 0.7094\n",
      "Epoch 90/100\n",
      "32/32 [==============================] - 0s 4ms/step - loss: 0.4462 - accuracy: 0.8181 - val_loss: 1.2136 - val_accuracy: 0.7128\n",
      "Epoch 91/100\n",
      "32/32 [==============================] - 0s 4ms/step - loss: 0.4464 - accuracy: 0.8141 - val_loss: 1.2250 - val_accuracy: 0.7128\n",
      "Epoch 92/100\n",
      "32/32 [==============================] - 0s 4ms/step - loss: 0.4449 - accuracy: 0.8175 - val_loss: 1.2164 - val_accuracy: 0.7140\n",
      "Epoch 93/100\n",
      "32/32 [==============================] - 0s 4ms/step - loss: 0.4444 - accuracy: 0.8188 - val_loss: 1.2396 - val_accuracy: 0.7162\n",
      "Epoch 94/100\n",
      "32/32 [==============================] - 0s 4ms/step - loss: 0.4445 - accuracy: 0.8188 - val_loss: 1.2298 - val_accuracy: 0.7174\n",
      "Epoch 95/100\n",
      "32/32 [==============================] - 0s 4ms/step - loss: 0.4460 - accuracy: 0.8216 - val_loss: 1.2310 - val_accuracy: 0.7162\n",
      "Epoch 96/100\n",
      "32/32 [==============================] - 0s 4ms/step - loss: 0.4443 - accuracy: 0.8172 - val_loss: 1.2301 - val_accuracy: 0.7174\n",
      "Epoch 97/100\n",
      "32/32 [==============================] - 0s 4ms/step - loss: 0.4443 - accuracy: 0.8213 - val_loss: 1.2344 - val_accuracy: 0.7185\n",
      "Epoch 98/100\n",
      "32/32 [==============================] - 0s 4ms/step - loss: 0.4448 - accuracy: 0.8203 - val_loss: 1.2544 - val_accuracy: 0.6822\n",
      "Epoch 99/100\n",
      "32/32 [==============================] - 0s 4ms/step - loss: 0.4448 - accuracy: 0.8222 - val_loss: 1.2380 - val_accuracy: 0.7162\n",
      "Epoch 100/100\n",
      "32/32 [==============================] - 0s 4ms/step - loss: 0.4434 - accuracy: 0.8194 - val_loss: 1.2443 - val_accuracy: 0.7162\n"
     ]
    }
   ],
   "source": [
    "history = model.fit(x_train,\n",
    "          y_train,\n",
    "          epochs=100,\n",
    "          batch_size=100,\n",
    "          validation_data=(x_test, y_test))"
   ]
  },
  {
   "cell_type": "code",
   "execution_count": 35,
   "metadata": {
    "colab": {
     "base_uri": "https://localhost:8080/",
     "height": 34
    },
    "colab_type": "code",
    "id": "fu6YWv7VUQ_6",
    "outputId": "578ec477-fb8c-4a8f-fb27-cde5eb8041b1"
   },
   "outputs": [
    {
     "data": {
      "text/plain": [
       "dict_keys(['loss', 'accuracy', 'val_loss', 'val_accuracy'])"
      ]
     },
     "execution_count": 35,
     "metadata": {
      "tags": []
     },
     "output_type": "execute_result"
    }
   ],
   "source": [
    "history_dict.keys()"
   ]
  },
  {
   "cell_type": "markdown",
   "metadata": {
    "colab_type": "text",
    "id": "nkxXvyKAe1VT"
   },
   "source": [
    "绘制准确率曲线"
   ]
  },
  {
   "cell_type": "code",
   "execution_count": 56,
   "metadata": {
    "colab": {
     "base_uri": "https://localhost:8080/",
     "height": 295
    },
    "colab_type": "code",
    "id": "0EVqOsjUTveA",
    "outputId": "bfe94e6f-2426-4cd8-e215-9027faab5ffd"
   },
   "outputs": [
    {
     "data": {
      "image/png": "[encoded data removed]",
      "text/plain": [
       "<Figure size 432x288 with 1 Axes>"
      ]
     },
     "metadata": {
      "needs_background": "light",
      "tags": []
     },
     "output_type": "display_data"
    }
   ],
   "source": [
    "import matplotlib.pyplot as plt\n",
    "history_dict = history.history\n",
    "epochs = range(1, len(loss_values) + 1)\n",
    "\n",
    "plt.clf()\n",
    "acc = history_dict['accuracy']\n",
    "val_acc = history_dict['val_accuracy']\n",
    "plt.plot(epochs, acc, 'bo', label='Training acc')\n",
    "plt.plot(epochs, val_acc, 'b', label='Validation acc')\n",
    "plt.title('Training and validation accuracy')\n",
    "plt.xlabel('Epochs')\n",
    "plt.ylabel('Accuracy')\n",
    "plt.legend()\n",
    "plt.show()"
   ]
  },
  {
   "cell_type": "code",
   "execution_count": 36,
   "metadata": {
    "colab": {},
    "colab_type": "code",
    "id": "-DnAC-HuUY3F"
   },
   "outputs": [],
   "source": []
  }
 ],
 "metadata": {
  "colab": {
   "name": "mlp.ipynb",
   "provenance": []
  },
  "kernelspec": {
   "display_name": "Python 3",
   "language": "python",
   "name": "python3"
  },
  "language_info": {
   "codemirror_mode": {
    "name": "ipython",
    "version": 3
   },
   "file_extension": ".py",
   "mimetype": "text/x-python",
   "name": "python",
   "nbconvert_exporter": "python",
   "pygments_lexer": "ipython3",
   "version": "3.7.6"
  }
 },
 "nbformat": 4,
 "nbformat_minor": 1
}
