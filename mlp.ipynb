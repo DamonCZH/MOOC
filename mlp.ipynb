{
  "nbformat": 4,
  "nbformat_minor": 0,
  "metadata": {
    "colab": {
      "name": "mlp.ipynb",
      "provenance": []
    },
    "kernelspec": {
      "name": "python3",
      "display_name": "Python 3"
    }
  },
  "cells": [
    {
      "cell_type": "code",
      "metadata": {
        "id": "8VGEUNjqUjue",
        "colab_type": "code",
        "colab": {
          "base_uri": "https://localhost:8080/",
          "height": 195
        },
        "outputId": "21548576-c020-494f-8d12-0e5d7762ec2c"
      },
      "source": [
        "import tensorflow as tf \n",
        "import numpy as np \n",
        "import pandas as pd \n",
        "\n",
        "# 读取数据\n",
        "data = pd.read_json('data.json')\n",
        "data.head()"
      ],
      "execution_count": 2,
      "outputs": [
        {
          "output_type": "execute_result",
          "data": {
            "text/html": [
              "<div>\n",
              "<style scoped>\n",
              "    .dataframe tbody tr th:only-of-type {\n",
              "        vertical-align: middle;\n",
              "    }\n",
              "\n",
              "    .dataframe tbody tr th {\n",
              "        vertical-align: top;\n",
              "    }\n",
              "\n",
              "    .dataframe thead th {\n",
              "        text-align: right;\n",
              "    }\n",
              "</style>\n",
              "<table border=\"1\" class=\"dataframe\">\n",
              "  <thead>\n",
              "    <tr style=\"text-align: right;\">\n",
              "      <th></th>\n",
              "      <th>x</th>\n",
              "      <th>y</th>\n",
              "    </tr>\n",
              "  </thead>\n",
              "  <tbody>\n",
              "    <tr>\n",
              "      <th>0</th>\n",
              "      <td>[0, 0, 0, 0, 0, 0, 0, 0, 0, 0, 0, 0, 0, 0, 0, ...</td>\n",
              "      <td>0</td>\n",
              "    </tr>\n",
              "    <tr>\n",
              "      <th>1</th>\n",
              "      <td>[0, 0, 0, 0, 0, 0, 0, 0, 0, 0, 0, 0, 0, 0, 0, ...</td>\n",
              "      <td>2</td>\n",
              "    </tr>\n",
              "    <tr>\n",
              "      <th>2</th>\n",
              "      <td>[0, 0, 0, 0, 0, 0, 0, 0, 0, 0, 0, 0, 0, 0, 0, ...</td>\n",
              "      <td>2</td>\n",
              "    </tr>\n",
              "    <tr>\n",
              "      <th>3</th>\n",
              "      <td>[2, 2, 2, 0, 0, 0, 0, 0, 0, 0, 0, 0, 0, 0, 0, ...</td>\n",
              "      <td>0</td>\n",
              "    </tr>\n",
              "    <tr>\n",
              "      <th>4</th>\n",
              "      <td>[0, 0, 0, 0, 0, 0, 0, 0, 0, 0, 0, 0, 0, 0, 0, ...</td>\n",
              "      <td>0</td>\n",
              "    </tr>\n",
              "  </tbody>\n",
              "</table>\n",
              "</div>"
            ],
            "text/plain": [
              "                                                   x  y\n",
              "0  [0, 0, 0, 0, 0, 0, 0, 0, 0, 0, 0, 0, 0, 0, 0, ...  0\n",
              "1  [0, 0, 0, 0, 0, 0, 0, 0, 0, 0, 0, 0, 0, 0, 0, ...  2\n",
              "2  [0, 0, 0, 0, 0, 0, 0, 0, 0, 0, 0, 0, 0, 0, 0, ...  2\n",
              "3  [2, 2, 2, 0, 0, 0, 0, 0, 0, 0, 0, 0, 0, 0, 0, ...  0\n",
              "4  [0, 0, 0, 0, 0, 0, 0, 0, 0, 0, 0, 0, 0, 0, 0, ...  0"
            ]
          },
          "metadata": {
            "tags": []
          },
          "execution_count": 2
        }
      ]
    },
    {
      "cell_type": "code",
      "metadata": {
        "id": "kZYJ9CYTVcYd",
        "colab_type": "code",
        "colab": {
          "base_uri": "https://localhost:8080/",
          "height": 34
        },
        "outputId": "6c7ac892-1969-4ece-ba75-a979444b4933"
      },
      "source": [
        "temp_data = []\n",
        "for i in range(len(data['x'])):\n",
        "  temp_data.append(np.asarray(data['x'][i]))\n",
        "\n",
        "print(temp_data[0])\n",
        "\n",
        "#dataset = tf.data.Dataset.from_tensor_slices((data['x'].values, data['y'].values))"
      ],
      "execution_count": 3,
      "outputs": [
        {
          "output_type": "stream",
          "text": [
            "[0.     0.     0.     ... 0.0036 0.     0.    ]\n"
          ],
          "name": "stdout"
        }
      ]
    },
    {
      "cell_type": "code",
      "metadata": {
        "id": "aYLEhJwwYmgg",
        "colab_type": "code",
        "colab": {}
      },
      "source": [
        "alldata = np.asarray(temp_data)\n",
        "allabel = np.asarray(data['y'])\n"
      ],
      "execution_count": 4,
      "outputs": []
    },
    {
      "cell_type": "code",
      "metadata": {
        "id": "q9JLtX0Me5xN",
        "colab_type": "code",
        "colab": {
          "base_uri": "https://localhost:8080/",
          "height": 151
        },
        "outputId": "3762808c-c437-4e83-8a95-f934d80f9564"
      },
      "source": [
        "from keras.utils.np_utils import to_categorical\n",
        "allabel = to_categorical(allabel)\n",
        "print(allabel)"
      ],
      "execution_count": 5,
      "outputs": [
        {
          "output_type": "stream",
          "text": [
            "[[1. 0. 0.]\n",
            " [0. 0. 1.]\n",
            " [0. 0. 1.]\n",
            " ...\n",
            " [1. 0. 0.]\n",
            " [1. 0. 0.]\n",
            " [1. 0. 0.]]\n"
          ],
          "name": "stdout"
        },
        {
          "output_type": "stream",
          "text": [
            "Using TensorFlow backend.\n"
          ],
          "name": "stderr"
        }
      ]
    },
    {
      "cell_type": "code",
      "metadata": {
        "id": "I3OfwPBnqmac",
        "colab_type": "code",
        "colab": {
          "base_uri": "https://localhost:8080/",
          "height": 34
        },
        "outputId": "3bace690-bda7-402c-df95-fb53beefd931"
      },
      "source": [
        "print(type(allabel[0]))"
      ],
      "execution_count": 6,
      "outputs": [
        {
          "output_type": "stream",
          "text": [
            "<class 'numpy.ndarray'>\n"
          ],
          "name": "stdout"
        }
      ]
    },
    {
      "cell_type": "code",
      "metadata": {
        "id": "3dqe998Tf95p",
        "colab_type": "code",
        "colab": {}
      },
      "source": [
        "dataset = tf.data.Dataset.from_tensor_slices((alldata, allabel))"
      ],
      "execution_count": 7,
      "outputs": []
    },
    {
      "cell_type": "code",
      "metadata": {
        "id": "S0BlwWKYgOGf",
        "colab_type": "code",
        "colab": {
          "base_uri": "https://localhost:8080/",
          "height": 101
        },
        "outputId": "9c2002e8-4a71-4154-ccd8-510a6e7cce42"
      },
      "source": [
        "for feat, targ in dataset.take(5):\n",
        "  print ('Features: {}, Target: {}'.format(feat, targ))"
      ],
      "execution_count": 8,
      "outputs": [
        {
          "output_type": "stream",
          "text": [
            "Features: [0.     0.     0.     ... 0.0036 0.     0.    ], Target: [1. 0. 0.]\n",
            "Features: [0.     0.     0.     ... 0.     0.     0.0046], Target: [0. 0. 1.]\n",
            "Features: [0.     0.     0.     ... 0.     0.     0.0012], Target: [0. 0. 1.]\n",
            "Features: [2.     2.     2.     ... 0.     0.     0.0027], Target: [1. 0. 0.]\n",
            "Features: [0.     0.     0.     ... 0.     0.     0.0015], Target: [1. 0. 0.]\n"
          ],
          "name": "stdout"
        }
      ]
    },
    {
      "cell_type": "code",
      "metadata": {
        "id": "abFW_tvKzYbc",
        "colab_type": "code",
        "colab": {
          "base_uri": "https://localhost:8080/",
          "height": 34
        },
        "outputId": "fc45bf30-fad8-4b19-f007-db048878bac3"
      },
      "source": [
        "x_train = alldata[:3200]\n",
        "x_test = alldata[3200:]\n",
        "y_train = allabel[:3200]\n",
        "y_test = allabel[3200:]"
      ],
      "execution_count": 14,
      "outputs": [
        {
          "output_type": "stream",
          "text": [
            "[0.     0.     0.     ... 0.0036 0.     0.    ]\n"
          ],
          "name": "stdout"
        }
      ]
    },
    {
      "cell_type": "code",
      "metadata": {
        "id": "G7i8gFhRgQA9",
        "colab_type": "code",
        "colab": {}
      },
      "source": [
        "from tensorflow.keras import models\n",
        "from tensorflow.keras import layers\n",
        "model = models.Sequential()\n",
        "model.add(layers.Dense(64, activation='relu', input_shape=(1147,)))\n",
        "model.add(layers.Dense(64, activation='relu'))\n",
        "model.add(layers.Dense(3, activation='softmax'))\n",
        "\n",
        "model.compile(optimizer='rmsprop',\n",
        "        loss='categorical_crossentropy',\n",
        "        metrics=['accuracy'])"
      ],
      "execution_count": 15,
      "outputs": []
    },
    {
      "cell_type": "code",
      "metadata": {
        "id": "qMTLvoJNkUA-",
        "colab_type": "code",
        "colab": {}
      },
      "source": [
        "train_dataset = dataset.batch(20)\n",
        "model.fit(train_dataset, epochs=50)"
      ],
      "execution_count": null,
      "outputs": []
    },
    {
      "cell_type": "code",
      "metadata": {
        "id": "ssNv-kZso6kS",
        "colab_type": "code",
        "colab": {
          "base_uri": "https://localhost:8080/",
          "height": 1000
        },
        "outputId": "87d5e2af-fa41-4f45-b580-24289b780d27"
      },
      "source": [
        "history = model.fit(x_train,\n",
        "          y_train,\n",
        "          epochs=200,\n",
        "          batch_size=100,\n",
        "          validation_data=(x_test, y_test))"
      ],
      "execution_count": 18,
      "outputs": [
        {
          "output_type": "stream",
          "text": [
            "Epoch 1/200\n",
            "32/32 [==============================] - 0s 4ms/step - loss: 0.4544 - accuracy: 0.8159 - val_loss: 1.1698 - val_accuracy: 0.7094\n",
            "Epoch 2/200\n",
            "32/32 [==============================] - 0s 4ms/step - loss: 0.4533 - accuracy: 0.8166 - val_loss: 1.1731 - val_accuracy: 0.7003\n",
            "Epoch 3/200\n",
            "32/32 [==============================] - 0s 4ms/step - loss: 0.4532 - accuracy: 0.8156 - val_loss: 1.1861 - val_accuracy: 0.7083\n",
            "Epoch 4/200\n",
            "32/32 [==============================] - 0s 4ms/step - loss: 0.4517 - accuracy: 0.8134 - val_loss: 1.1833 - val_accuracy: 0.7060\n",
            "Epoch 5/200\n",
            "32/32 [==============================] - 0s 4ms/step - loss: 0.4522 - accuracy: 0.8141 - val_loss: 1.1868 - val_accuracy: 0.7117\n",
            "Epoch 6/200\n",
            "32/32 [==============================] - 0s 4ms/step - loss: 0.4524 - accuracy: 0.8147 - val_loss: 1.1818 - val_accuracy: 0.7072\n",
            "Epoch 7/200\n",
            "32/32 [==============================] - 0s 4ms/step - loss: 0.4507 - accuracy: 0.8184 - val_loss: 1.1904 - val_accuracy: 0.7026\n",
            "Epoch 8/200\n",
            "32/32 [==============================] - 0s 4ms/step - loss: 0.4511 - accuracy: 0.8175 - val_loss: 1.1861 - val_accuracy: 0.7083\n",
            "Epoch 9/200\n",
            "32/32 [==============================] - 0s 4ms/step - loss: 0.4503 - accuracy: 0.8163 - val_loss: 1.1883 - val_accuracy: 0.7117\n",
            "Epoch 10/200\n",
            "32/32 [==============================] - 0s 4ms/step - loss: 0.4515 - accuracy: 0.8184 - val_loss: 1.1901 - val_accuracy: 0.7106\n",
            "Epoch 11/200\n",
            "32/32 [==============================] - 0s 4ms/step - loss: 0.4505 - accuracy: 0.8163 - val_loss: 1.1966 - val_accuracy: 0.7128\n",
            "Epoch 12/200\n",
            "32/32 [==============================] - 0s 4ms/step - loss: 0.4489 - accuracy: 0.8178 - val_loss: 1.2093 - val_accuracy: 0.7026\n",
            "Epoch 13/200\n",
            "32/32 [==============================] - 0s 4ms/step - loss: 0.4484 - accuracy: 0.8203 - val_loss: 1.2079 - val_accuracy: 0.7083\n",
            "Epoch 14/200\n",
            "32/32 [==============================] - 0s 4ms/step - loss: 0.4510 - accuracy: 0.8159 - val_loss: 1.2061 - val_accuracy: 0.7094\n",
            "Epoch 15/200\n",
            "32/32 [==============================] - 0s 4ms/step - loss: 0.4485 - accuracy: 0.8197 - val_loss: 1.2083 - val_accuracy: 0.7072\n",
            "Epoch 16/200\n",
            "32/32 [==============================] - 0s 4ms/step - loss: 0.4505 - accuracy: 0.8150 - val_loss: 1.2118 - val_accuracy: 0.7117\n",
            "Epoch 17/200\n",
            "32/32 [==============================] - 0s 4ms/step - loss: 0.4485 - accuracy: 0.8219 - val_loss: 1.2257 - val_accuracy: 0.6992\n",
            "Epoch 18/200\n",
            "32/32 [==============================] - 0s 4ms/step - loss: 0.4499 - accuracy: 0.8156 - val_loss: 1.2234 - val_accuracy: 0.7026\n",
            "Epoch 19/200\n",
            "32/32 [==============================] - 0s 4ms/step - loss: 0.4468 - accuracy: 0.8169 - val_loss: 1.2349 - val_accuracy: 0.7128\n",
            "Epoch 20/200\n",
            "32/32 [==============================] - 0s 4ms/step - loss: 0.4480 - accuracy: 0.8166 - val_loss: 1.2267 - val_accuracy: 0.7083\n",
            "Epoch 21/200\n",
            "32/32 [==============================] - 0s 4ms/step - loss: 0.4483 - accuracy: 0.8188 - val_loss: 1.2317 - val_accuracy: 0.7037\n",
            "Epoch 22/200\n",
            "32/32 [==============================] - 0s 4ms/step - loss: 0.4484 - accuracy: 0.8188 - val_loss: 1.2360 - val_accuracy: 0.7060\n",
            "Epoch 23/200\n",
            "32/32 [==============================] - 0s 4ms/step - loss: 0.4494 - accuracy: 0.8125 - val_loss: 1.2332 - val_accuracy: 0.7140\n",
            "Epoch 24/200\n",
            "32/32 [==============================] - 0s 4ms/step - loss: 0.4481 - accuracy: 0.8159 - val_loss: 1.2306 - val_accuracy: 0.7117\n",
            "Epoch 25/200\n",
            "32/32 [==============================] - 0s 4ms/step - loss: 0.4469 - accuracy: 0.8178 - val_loss: 1.2468 - val_accuracy: 0.7151\n",
            "Epoch 26/200\n",
            "32/32 [==============================] - 0s 4ms/step - loss: 0.4479 - accuracy: 0.8197 - val_loss: 1.2562 - val_accuracy: 0.7003\n",
            "Epoch 27/200\n",
            "32/32 [==============================] - 0s 4ms/step - loss: 0.4472 - accuracy: 0.8138 - val_loss: 1.2442 - val_accuracy: 0.7015\n",
            "Epoch 28/200\n",
            "32/32 [==============================] - 0s 4ms/step - loss: 0.4487 - accuracy: 0.8153 - val_loss: 1.2510 - val_accuracy: 0.7128\n",
            "Epoch 29/200\n",
            "32/32 [==============================] - 0s 4ms/step - loss: 0.4460 - accuracy: 0.8172 - val_loss: 1.2557 - val_accuracy: 0.7083\n",
            "Epoch 30/200\n",
            "32/32 [==============================] - 0s 4ms/step - loss: 0.4481 - accuracy: 0.8213 - val_loss: 1.2513 - val_accuracy: 0.7026\n",
            "Epoch 31/200\n",
            "32/32 [==============================] - 0s 4ms/step - loss: 0.4462 - accuracy: 0.8169 - val_loss: 1.2513 - val_accuracy: 0.7060\n",
            "Epoch 32/200\n",
            "32/32 [==============================] - 0s 4ms/step - loss: 0.4465 - accuracy: 0.8178 - val_loss: 1.2609 - val_accuracy: 0.7060\n",
            "Epoch 33/200\n",
            "32/32 [==============================] - 0s 4ms/step - loss: 0.4466 - accuracy: 0.8181 - val_loss: 1.2586 - val_accuracy: 0.7106\n",
            "Epoch 34/200\n",
            "32/32 [==============================] - 0s 4ms/step - loss: 0.4465 - accuracy: 0.8209 - val_loss: 1.2674 - val_accuracy: 0.7026\n",
            "Epoch 35/200\n",
            "32/32 [==============================] - 0s 4ms/step - loss: 0.4451 - accuracy: 0.8197 - val_loss: 1.2660 - val_accuracy: 0.7026\n",
            "Epoch 36/200\n",
            "32/32 [==============================] - 0s 4ms/step - loss: 0.4462 - accuracy: 0.8178 - val_loss: 1.2629 - val_accuracy: 0.7128\n",
            "Epoch 37/200\n",
            "32/32 [==============================] - 0s 4ms/step - loss: 0.4450 - accuracy: 0.8159 - val_loss: 1.2664 - val_accuracy: 0.7140\n",
            "Epoch 38/200\n",
            "32/32 [==============================] - 0s 4ms/step - loss: 0.4440 - accuracy: 0.8191 - val_loss: 1.2714 - val_accuracy: 0.7094\n",
            "Epoch 39/200\n",
            "32/32 [==============================] - 0s 4ms/step - loss: 0.4460 - accuracy: 0.8209 - val_loss: 1.2746 - val_accuracy: 0.7162\n",
            "Epoch 40/200\n",
            "32/32 [==============================] - 0s 4ms/step - loss: 0.4459 - accuracy: 0.8169 - val_loss: 1.2829 - val_accuracy: 0.7060\n",
            "Epoch 41/200\n",
            "32/32 [==============================] - 0s 4ms/step - loss: 0.4438 - accuracy: 0.8181 - val_loss: 1.2855 - val_accuracy: 0.7015\n",
            "Epoch 42/200\n",
            "32/32 [==============================] - 0s 4ms/step - loss: 0.4447 - accuracy: 0.8209 - val_loss: 1.2955 - val_accuracy: 0.7026\n",
            "Epoch 43/200\n",
            "32/32 [==============================] - 0s 4ms/step - loss: 0.4441 - accuracy: 0.8209 - val_loss: 1.2889 - val_accuracy: 0.7015\n",
            "Epoch 44/200\n",
            "32/32 [==============================] - 0s 4ms/step - loss: 0.4458 - accuracy: 0.8219 - val_loss: 1.2907 - val_accuracy: 0.7094\n",
            "Epoch 45/200\n",
            "32/32 [==============================] - 0s 4ms/step - loss: 0.4451 - accuracy: 0.8191 - val_loss: 1.2852 - val_accuracy: 0.7106\n",
            "Epoch 46/200\n",
            "32/32 [==============================] - 0s 4ms/step - loss: 0.4436 - accuracy: 0.8150 - val_loss: 1.2926 - val_accuracy: 0.6981\n",
            "Epoch 47/200\n",
            "32/32 [==============================] - 0s 4ms/step - loss: 0.4440 - accuracy: 0.8191 - val_loss: 1.2944 - val_accuracy: 0.7003\n",
            "Epoch 48/200\n",
            "32/32 [==============================] - 0s 4ms/step - loss: 0.4433 - accuracy: 0.8175 - val_loss: 1.2920 - val_accuracy: 0.7049\n",
            "Epoch 49/200\n",
            "32/32 [==============================] - 0s 4ms/step - loss: 0.4448 - accuracy: 0.8175 - val_loss: 1.3034 - val_accuracy: 0.6992\n",
            "Epoch 50/200\n",
            "32/32 [==============================] - 0s 4ms/step - loss: 0.4436 - accuracy: 0.8209 - val_loss: 1.3059 - val_accuracy: 0.7026\n",
            "Epoch 51/200\n",
            "32/32 [==============================] - 0s 4ms/step - loss: 0.4436 - accuracy: 0.8153 - val_loss: 1.3045 - val_accuracy: 0.7072\n",
            "Epoch 52/200\n",
            "32/32 [==============================] - 0s 4ms/step - loss: 0.4442 - accuracy: 0.8194 - val_loss: 1.3122 - val_accuracy: 0.7015\n",
            "Epoch 53/200\n",
            "32/32 [==============================] - 0s 4ms/step - loss: 0.4434 - accuracy: 0.8209 - val_loss: 1.3100 - val_accuracy: 0.7060\n",
            "Epoch 54/200\n",
            "32/32 [==============================] - 0s 4ms/step - loss: 0.4447 - accuracy: 0.8172 - val_loss: 1.3021 - val_accuracy: 0.7106\n",
            "Epoch 55/200\n",
            "32/32 [==============================] - 0s 4ms/step - loss: 0.4417 - accuracy: 0.8222 - val_loss: 1.3117 - val_accuracy: 0.7117\n",
            "Epoch 56/200\n",
            "32/32 [==============================] - 0s 4ms/step - loss: 0.4428 - accuracy: 0.8200 - val_loss: 1.3141 - val_accuracy: 0.7072\n",
            "Epoch 57/200\n",
            "32/32 [==============================] - 0s 4ms/step - loss: 0.4429 - accuracy: 0.8156 - val_loss: 1.3239 - val_accuracy: 0.7003\n",
            "Epoch 58/200\n",
            "32/32 [==============================] - 0s 4ms/step - loss: 0.4432 - accuracy: 0.8166 - val_loss: 1.3265 - val_accuracy: 0.7026\n",
            "Epoch 59/200\n",
            "32/32 [==============================] - 0s 4ms/step - loss: 0.4432 - accuracy: 0.8175 - val_loss: 1.3252 - val_accuracy: 0.7003\n",
            "Epoch 60/200\n",
            "32/32 [==============================] - 0s 4ms/step - loss: 0.4414 - accuracy: 0.8172 - val_loss: 1.3241 - val_accuracy: 0.7106\n",
            "Epoch 61/200\n",
            "32/32 [==============================] - 0s 4ms/step - loss: 0.4428 - accuracy: 0.8178 - val_loss: 1.3261 - val_accuracy: 0.7049\n",
            "Epoch 62/200\n",
            "32/32 [==============================] - 0s 4ms/step - loss: 0.4402 - accuracy: 0.8203 - val_loss: 1.3443 - val_accuracy: 0.6810\n",
            "Epoch 63/200\n",
            "32/32 [==============================] - 0s 4ms/step - loss: 0.4417 - accuracy: 0.8250 - val_loss: 1.3467 - val_accuracy: 0.6935\n",
            "Epoch 64/200\n",
            "32/32 [==============================] - 0s 4ms/step - loss: 0.4416 - accuracy: 0.8216 - val_loss: 1.3283 - val_accuracy: 0.7106\n",
            "Epoch 65/200\n",
            "32/32 [==============================] - 0s 4ms/step - loss: 0.4416 - accuracy: 0.8206 - val_loss: 1.3421 - val_accuracy: 0.7015\n",
            "Epoch 66/200\n",
            "32/32 [==============================] - 0s 4ms/step - loss: 0.4433 - accuracy: 0.8150 - val_loss: 1.3383 - val_accuracy: 0.7106\n",
            "Epoch 67/200\n",
            "32/32 [==============================] - 0s 4ms/step - loss: 0.4408 - accuracy: 0.8191 - val_loss: 1.3378 - val_accuracy: 0.7128\n",
            "Epoch 68/200\n",
            "32/32 [==============================] - 0s 4ms/step - loss: 0.4404 - accuracy: 0.8194 - val_loss: 1.3460 - val_accuracy: 0.6958\n",
            "Epoch 69/200\n",
            "32/32 [==============================] - 0s 4ms/step - loss: 0.4409 - accuracy: 0.8206 - val_loss: 1.3468 - val_accuracy: 0.7015\n",
            "Epoch 70/200\n",
            "32/32 [==============================] - 0s 4ms/step - loss: 0.4391 - accuracy: 0.8244 - val_loss: 1.3551 - val_accuracy: 0.7083\n",
            "Epoch 71/200\n",
            "32/32 [==============================] - 0s 4ms/step - loss: 0.4400 - accuracy: 0.8206 - val_loss: 1.3570 - val_accuracy: 0.7026\n",
            "Epoch 72/200\n",
            "32/32 [==============================] - 0s 4ms/step - loss: 0.4392 - accuracy: 0.8228 - val_loss: 1.3566 - val_accuracy: 0.7117\n",
            "Epoch 73/200\n",
            "32/32 [==============================] - 0s 4ms/step - loss: 0.4405 - accuracy: 0.8213 - val_loss: 1.3573 - val_accuracy: 0.7049\n",
            "Epoch 74/200\n",
            "32/32 [==============================] - 0s 4ms/step - loss: 0.4397 - accuracy: 0.8231 - val_loss: 1.3675 - val_accuracy: 0.6901\n",
            "Epoch 75/200\n",
            "32/32 [==============================] - 0s 4ms/step - loss: 0.4400 - accuracy: 0.8181 - val_loss: 1.3568 - val_accuracy: 0.7117\n",
            "Epoch 76/200\n",
            "32/32 [==============================] - 0s 4ms/step - loss: 0.4405 - accuracy: 0.8222 - val_loss: 1.3629 - val_accuracy: 0.7026\n",
            "Epoch 77/200\n",
            "32/32 [==============================] - 0s 4ms/step - loss: 0.4385 - accuracy: 0.8181 - val_loss: 1.3629 - val_accuracy: 0.7072\n",
            "Epoch 78/200\n",
            "32/32 [==============================] - 0s 4ms/step - loss: 0.4391 - accuracy: 0.8213 - val_loss: 1.3739 - val_accuracy: 0.6958\n",
            "Epoch 79/200\n",
            "32/32 [==============================] - 0s 4ms/step - loss: 0.4390 - accuracy: 0.8175 - val_loss: 1.3657 - val_accuracy: 0.7106\n",
            "Epoch 80/200\n",
            "32/32 [==============================] - 0s 4ms/step - loss: 0.4391 - accuracy: 0.8178 - val_loss: 1.3723 - val_accuracy: 0.7026\n",
            "Epoch 81/200\n",
            "32/32 [==============================] - 0s 4ms/step - loss: 0.4389 - accuracy: 0.8238 - val_loss: 1.3811 - val_accuracy: 0.7072\n",
            "Epoch 82/200\n",
            "32/32 [==============================] - 0s 4ms/step - loss: 0.4389 - accuracy: 0.8209 - val_loss: 1.3763 - val_accuracy: 0.6969\n",
            "Epoch 83/200\n",
            "32/32 [==============================] - 0s 4ms/step - loss: 0.4381 - accuracy: 0.8247 - val_loss: 1.3739 - val_accuracy: 0.7015\n",
            "Epoch 84/200\n",
            "32/32 [==============================] - 0s 4ms/step - loss: 0.4383 - accuracy: 0.8203 - val_loss: 1.3835 - val_accuracy: 0.7060\n",
            "Epoch 85/200\n",
            "32/32 [==============================] - 0s 4ms/step - loss: 0.4389 - accuracy: 0.8231 - val_loss: 1.3775 - val_accuracy: 0.7140\n",
            "Epoch 86/200\n",
            "32/32 [==============================] - 0s 4ms/step - loss: 0.4387 - accuracy: 0.8241 - val_loss: 1.3779 - val_accuracy: 0.7060\n",
            "Epoch 87/200\n",
            "32/32 [==============================] - 0s 4ms/step - loss: 0.4385 - accuracy: 0.8197 - val_loss: 1.3822 - val_accuracy: 0.7060\n",
            "Epoch 88/200\n",
            "32/32 [==============================] - 0s 4ms/step - loss: 0.4379 - accuracy: 0.8209 - val_loss: 1.3921 - val_accuracy: 0.7026\n",
            "Epoch 89/200\n",
            "32/32 [==============================] - 0s 4ms/step - loss: 0.4388 - accuracy: 0.8234 - val_loss: 1.3868 - val_accuracy: 0.7117\n",
            "Epoch 90/200\n",
            "32/32 [==============================] - 0s 4ms/step - loss: 0.4385 - accuracy: 0.8194 - val_loss: 1.3896 - val_accuracy: 0.7003\n",
            "Epoch 91/200\n",
            "32/32 [==============================] - 0s 4ms/step - loss: 0.4385 - accuracy: 0.8203 - val_loss: 1.4040 - val_accuracy: 0.6913\n",
            "Epoch 92/200\n",
            "32/32 [==============================] - 0s 4ms/step - loss: 0.4376 - accuracy: 0.8213 - val_loss: 1.4015 - val_accuracy: 0.6992\n",
            "Epoch 93/200\n",
            "32/32 [==============================] - 0s 4ms/step - loss: 0.4374 - accuracy: 0.8209 - val_loss: 1.4108 - val_accuracy: 0.6947\n",
            "Epoch 94/200\n",
            "32/32 [==============================] - 0s 4ms/step - loss: 0.4376 - accuracy: 0.8216 - val_loss: 1.3996 - val_accuracy: 0.7003\n",
            "Epoch 95/200\n",
            "32/32 [==============================] - 0s 4ms/step - loss: 0.4375 - accuracy: 0.8216 - val_loss: 1.4065 - val_accuracy: 0.7015\n",
            "Epoch 96/200\n",
            "32/32 [==============================] - 0s 4ms/step - loss: 0.4367 - accuracy: 0.8244 - val_loss: 1.4222 - val_accuracy: 0.6924\n",
            "Epoch 97/200\n",
            "32/32 [==============================] - 0s 4ms/step - loss: 0.4374 - accuracy: 0.8231 - val_loss: 1.4007 - val_accuracy: 0.7117\n",
            "Epoch 98/200\n",
            "32/32 [==============================] - 0s 4ms/step - loss: 0.4369 - accuracy: 0.8216 - val_loss: 1.4084 - val_accuracy: 0.7026\n",
            "Epoch 99/200\n",
            "32/32 [==============================] - 0s 4ms/step - loss: 0.4369 - accuracy: 0.8200 - val_loss: 1.4066 - val_accuracy: 0.7072\n",
            "Epoch 100/200\n",
            "32/32 [==============================] - 0s 4ms/step - loss: 0.4380 - accuracy: 0.8272 - val_loss: 1.4068 - val_accuracy: 0.7094\n",
            "Epoch 101/200\n",
            "32/32 [==============================] - 0s 4ms/step - loss: 0.4358 - accuracy: 0.8234 - val_loss: 1.4152 - val_accuracy: 0.6901\n",
            "Epoch 102/200\n",
            "32/32 [==============================] - 0s 4ms/step - loss: 0.4368 - accuracy: 0.8253 - val_loss: 1.4167 - val_accuracy: 0.6935\n",
            "Epoch 103/200\n",
            "32/32 [==============================] - 0s 4ms/step - loss: 0.4369 - accuracy: 0.8206 - val_loss: 1.4219 - val_accuracy: 0.6992\n",
            "Epoch 104/200\n",
            "32/32 [==============================] - 0s 4ms/step - loss: 0.4366 - accuracy: 0.8241 - val_loss: 1.4214 - val_accuracy: 0.6992\n",
            "Epoch 105/200\n",
            "32/32 [==============================] - 0s 4ms/step - loss: 0.4354 - accuracy: 0.8225 - val_loss: 1.4342 - val_accuracy: 0.6901\n",
            "Epoch 106/200\n",
            "32/32 [==============================] - 0s 5ms/step - loss: 0.4376 - accuracy: 0.8181 - val_loss: 1.4247 - val_accuracy: 0.7003\n",
            "Epoch 107/200\n",
            "32/32 [==============================] - 0s 4ms/step - loss: 0.4362 - accuracy: 0.8253 - val_loss: 1.4276 - val_accuracy: 0.7060\n",
            "Epoch 108/200\n",
            "32/32 [==============================] - 0s 4ms/step - loss: 0.4360 - accuracy: 0.8209 - val_loss: 1.4216 - val_accuracy: 0.7072\n",
            "Epoch 109/200\n",
            "32/32 [==============================] - 0s 4ms/step - loss: 0.4364 - accuracy: 0.8222 - val_loss: 1.4283 - val_accuracy: 0.7026\n",
            "Epoch 110/200\n",
            "32/32 [==============================] - 0s 4ms/step - loss: 0.4345 - accuracy: 0.8225 - val_loss: 1.4316 - val_accuracy: 0.7003\n",
            "Epoch 111/200\n",
            "32/32 [==============================] - 0s 4ms/step - loss: 0.4361 - accuracy: 0.8244 - val_loss: 1.4345 - val_accuracy: 0.7060\n",
            "Epoch 112/200\n",
            "32/32 [==============================] - 0s 4ms/step - loss: 0.4351 - accuracy: 0.8241 - val_loss: 1.4438 - val_accuracy: 0.6935\n",
            "Epoch 113/200\n",
            "32/32 [==============================] - 0s 4ms/step - loss: 0.4368 - accuracy: 0.8244 - val_loss: 1.4352 - val_accuracy: 0.6958\n",
            "Epoch 114/200\n",
            "32/32 [==============================] - 0s 4ms/step - loss: 0.4359 - accuracy: 0.8206 - val_loss: 1.4390 - val_accuracy: 0.7015\n",
            "Epoch 115/200\n",
            "32/32 [==============================] - 0s 4ms/step - loss: 0.4356 - accuracy: 0.8253 - val_loss: 1.4319 - val_accuracy: 0.7003\n",
            "Epoch 116/200\n",
            "32/32 [==============================] - 0s 4ms/step - loss: 0.4340 - accuracy: 0.8219 - val_loss: 1.4424 - val_accuracy: 0.6981\n",
            "Epoch 117/200\n",
            "32/32 [==============================] - 0s 4ms/step - loss: 0.4370 - accuracy: 0.8228 - val_loss: 1.4417 - val_accuracy: 0.6924\n",
            "Epoch 118/200\n",
            "32/32 [==============================] - 0s 4ms/step - loss: 0.4350 - accuracy: 0.8244 - val_loss: 1.4439 - val_accuracy: 0.7060\n",
            "Epoch 119/200\n",
            "32/32 [==============================] - 0s 4ms/step - loss: 0.4356 - accuracy: 0.8194 - val_loss: 1.4433 - val_accuracy: 0.7117\n",
            "Epoch 120/200\n",
            "32/32 [==============================] - 0s 4ms/step - loss: 0.4357 - accuracy: 0.8231 - val_loss: 1.4455 - val_accuracy: 0.7083\n",
            "Epoch 121/200\n",
            "32/32 [==============================] - 0s 4ms/step - loss: 0.4355 - accuracy: 0.8297 - val_loss: 1.4498 - val_accuracy: 0.7094\n",
            "Epoch 122/200\n",
            "32/32 [==============================] - 0s 4ms/step - loss: 0.4360 - accuracy: 0.8228 - val_loss: 1.4503 - val_accuracy: 0.7015\n",
            "Epoch 123/200\n",
            "32/32 [==============================] - 0s 4ms/step - loss: 0.4345 - accuracy: 0.8263 - val_loss: 1.4471 - val_accuracy: 0.7128\n",
            "Epoch 124/200\n",
            "32/32 [==============================] - 0s 4ms/step - loss: 0.4372 - accuracy: 0.8225 - val_loss: 1.4557 - val_accuracy: 0.6969\n",
            "Epoch 125/200\n",
            "32/32 [==============================] - 0s 4ms/step - loss: 0.4343 - accuracy: 0.8231 - val_loss: 1.4550 - val_accuracy: 0.6958\n",
            "Epoch 126/200\n",
            "32/32 [==============================] - 0s 4ms/step - loss: 0.4357 - accuracy: 0.8219 - val_loss: 1.4547 - val_accuracy: 0.7060\n",
            "Epoch 127/200\n",
            "32/32 [==============================] - 0s 4ms/step - loss: 0.4346 - accuracy: 0.8247 - val_loss: 1.4582 - val_accuracy: 0.7026\n",
            "Epoch 128/200\n",
            "32/32 [==============================] - 0s 4ms/step - loss: 0.4349 - accuracy: 0.8175 - val_loss: 1.4543 - val_accuracy: 0.6981\n",
            "Epoch 129/200\n",
            "32/32 [==============================] - 0s 4ms/step - loss: 0.4339 - accuracy: 0.8241 - val_loss: 1.4619 - val_accuracy: 0.6924\n",
            "Epoch 130/200\n",
            "32/32 [==============================] - 0s 4ms/step - loss: 0.4355 - accuracy: 0.8231 - val_loss: 1.4579 - val_accuracy: 0.7060\n",
            "Epoch 131/200\n",
            "32/32 [==============================] - 0s 4ms/step - loss: 0.4341 - accuracy: 0.8244 - val_loss: 1.4659 - val_accuracy: 0.6913\n",
            "Epoch 132/200\n",
            "32/32 [==============================] - 0s 4ms/step - loss: 0.4353 - accuracy: 0.8203 - val_loss: 1.4649 - val_accuracy: 0.7060\n",
            "Epoch 133/200\n",
            "32/32 [==============================] - 0s 4ms/step - loss: 0.4338 - accuracy: 0.8238 - val_loss: 1.4588 - val_accuracy: 0.7049\n",
            "Epoch 134/200\n",
            "32/32 [==============================] - 0s 4ms/step - loss: 0.4348 - accuracy: 0.8213 - val_loss: 1.4653 - val_accuracy: 0.6981\n",
            "Epoch 135/200\n",
            "32/32 [==============================] - 0s 4ms/step - loss: 0.4350 - accuracy: 0.8206 - val_loss: 1.4509 - val_accuracy: 0.7003\n",
            "Epoch 136/200\n",
            "32/32 [==============================] - 0s 4ms/step - loss: 0.4333 - accuracy: 0.8231 - val_loss: 1.4606 - val_accuracy: 0.7072\n",
            "Epoch 137/200\n",
            "32/32 [==============================] - 0s 4ms/step - loss: 0.4333 - accuracy: 0.8244 - val_loss: 1.4704 - val_accuracy: 0.6958\n",
            "Epoch 138/200\n",
            "32/32 [==============================] - 0s 4ms/step - loss: 0.4338 - accuracy: 0.8203 - val_loss: 1.4779 - val_accuracy: 0.7015\n",
            "Epoch 139/200\n",
            "32/32 [==============================] - 0s 4ms/step - loss: 0.4341 - accuracy: 0.8241 - val_loss: 1.4616 - val_accuracy: 0.7094\n",
            "Epoch 140/200\n",
            "32/32 [==============================] - 0s 4ms/step - loss: 0.4328 - accuracy: 0.8222 - val_loss: 1.4682 - val_accuracy: 0.6969\n",
            "Epoch 141/200\n",
            "32/32 [==============================] - 0s 4ms/step - loss: 0.4343 - accuracy: 0.8219 - val_loss: 1.4693 - val_accuracy: 0.6981\n",
            "Epoch 142/200\n",
            "32/32 [==============================] - 0s 4ms/step - loss: 0.4329 - accuracy: 0.8241 - val_loss: 1.4632 - val_accuracy: 0.7106\n",
            "Epoch 143/200\n",
            "32/32 [==============================] - 0s 4ms/step - loss: 0.4333 - accuracy: 0.8225 - val_loss: 1.4718 - val_accuracy: 0.6913\n",
            "Epoch 144/200\n",
            "32/32 [==============================] - 0s 4ms/step - loss: 0.4324 - accuracy: 0.8213 - val_loss: 1.4791 - val_accuracy: 0.7026\n",
            "Epoch 145/200\n",
            "32/32 [==============================] - 0s 4ms/step - loss: 0.4348 - accuracy: 0.8222 - val_loss: 1.4651 - val_accuracy: 0.7083\n",
            "Epoch 146/200\n",
            "32/32 [==============================] - 0s 4ms/step - loss: 0.4329 - accuracy: 0.8247 - val_loss: 1.4752 - val_accuracy: 0.7083\n",
            "Epoch 147/200\n",
            "32/32 [==============================] - 0s 4ms/step - loss: 0.4324 - accuracy: 0.8253 - val_loss: 1.4568 - val_accuracy: 0.7072\n",
            "Epoch 148/200\n",
            "32/32 [==============================] - 0s 4ms/step - loss: 0.4332 - accuracy: 0.8222 - val_loss: 1.4721 - val_accuracy: 0.6992\n",
            "Epoch 149/200\n",
            "32/32 [==============================] - 0s 4ms/step - loss: 0.4320 - accuracy: 0.8231 - val_loss: 1.4713 - val_accuracy: 0.7003\n",
            "Epoch 150/200\n",
            "32/32 [==============================] - 0s 4ms/step - loss: 0.4340 - accuracy: 0.8250 - val_loss: 1.4765 - val_accuracy: 0.7003\n",
            "Epoch 151/200\n",
            "32/32 [==============================] - 0s 4ms/step - loss: 0.4336 - accuracy: 0.8256 - val_loss: 1.4788 - val_accuracy: 0.7072\n",
            "Epoch 152/200\n",
            "32/32 [==============================] - 0s 4ms/step - loss: 0.4342 - accuracy: 0.8244 - val_loss: 1.4726 - val_accuracy: 0.7083\n",
            "Epoch 153/200\n",
            "32/32 [==============================] - 0s 4ms/step - loss: 0.4313 - accuracy: 0.8253 - val_loss: 1.4783 - val_accuracy: 0.6992\n",
            "Epoch 154/200\n",
            "32/32 [==============================] - 0s 4ms/step - loss: 0.4334 - accuracy: 0.8228 - val_loss: 1.4804 - val_accuracy: 0.7026\n",
            "Epoch 155/200\n",
            "32/32 [==============================] - 0s 4ms/step - loss: 0.4326 - accuracy: 0.8209 - val_loss: 1.4659 - val_accuracy: 0.7003\n",
            "Epoch 156/200\n",
            "32/32 [==============================] - 0s 4ms/step - loss: 0.4325 - accuracy: 0.8253 - val_loss: 1.4818 - val_accuracy: 0.6992\n",
            "Epoch 157/200\n",
            "32/32 [==============================] - 0s 4ms/step - loss: 0.4315 - accuracy: 0.8231 - val_loss: 1.4849 - val_accuracy: 0.6992\n",
            "Epoch 158/200\n",
            "32/32 [==============================] - 0s 4ms/step - loss: 0.4334 - accuracy: 0.8219 - val_loss: 1.4780 - val_accuracy: 0.6981\n",
            "Epoch 159/200\n",
            "32/32 [==============================] - 0s 4ms/step - loss: 0.4316 - accuracy: 0.8222 - val_loss: 1.4828 - val_accuracy: 0.7072\n",
            "Epoch 160/200\n",
            "32/32 [==============================] - 0s 4ms/step - loss: 0.4331 - accuracy: 0.8291 - val_loss: 1.4826 - val_accuracy: 0.6969\n",
            "Epoch 161/200\n",
            "32/32 [==============================] - 0s 4ms/step - loss: 0.4318 - accuracy: 0.8228 - val_loss: 1.4836 - val_accuracy: 0.7049\n",
            "Epoch 162/200\n",
            "32/32 [==============================] - 0s 4ms/step - loss: 0.4316 - accuracy: 0.8250 - val_loss: 1.4849 - val_accuracy: 0.6969\n",
            "Epoch 163/200\n",
            "32/32 [==============================] - 0s 4ms/step - loss: 0.4338 - accuracy: 0.8209 - val_loss: 1.4815 - val_accuracy: 0.7049\n",
            "Epoch 164/200\n",
            "32/32 [==============================] - 0s 4ms/step - loss: 0.4306 - accuracy: 0.8238 - val_loss: 1.4973 - val_accuracy: 0.6992\n",
            "Epoch 165/200\n",
            "32/32 [==============================] - 0s 4ms/step - loss: 0.4321 - accuracy: 0.8231 - val_loss: 1.4914 - val_accuracy: 0.7049\n",
            "Epoch 166/200\n",
            "32/32 [==============================] - 0s 4ms/step - loss: 0.4322 - accuracy: 0.8250 - val_loss: 1.5067 - val_accuracy: 0.6981\n",
            "Epoch 167/200\n",
            "32/32 [==============================] - 0s 4ms/step - loss: 0.4323 - accuracy: 0.8272 - val_loss: 1.4883 - val_accuracy: 0.7060\n",
            "Epoch 168/200\n",
            "32/32 [==============================] - 0s 4ms/step - loss: 0.4313 - accuracy: 0.8281 - val_loss: 1.4954 - val_accuracy: 0.6992\n",
            "Epoch 169/200\n",
            "32/32 [==============================] - 0s 4ms/step - loss: 0.4306 - accuracy: 0.8247 - val_loss: 1.4979 - val_accuracy: 0.6947\n",
            "Epoch 170/200\n",
            "32/32 [==============================] - 0s 4ms/step - loss: 0.4315 - accuracy: 0.8222 - val_loss: 1.4995 - val_accuracy: 0.6901\n",
            "Epoch 171/200\n",
            "32/32 [==============================] - 0s 4ms/step - loss: 0.4316 - accuracy: 0.8244 - val_loss: 1.4902 - val_accuracy: 0.6969\n",
            "Epoch 172/200\n",
            "32/32 [==============================] - 0s 4ms/step - loss: 0.4321 - accuracy: 0.8272 - val_loss: 1.4981 - val_accuracy: 0.7049\n",
            "Epoch 173/200\n",
            "32/32 [==============================] - 0s 4ms/step - loss: 0.4315 - accuracy: 0.8278 - val_loss: 1.4852 - val_accuracy: 0.6969\n",
            "Epoch 174/200\n",
            "32/32 [==============================] - 0s 4ms/step - loss: 0.4313 - accuracy: 0.8253 - val_loss: 1.5068 - val_accuracy: 0.7037\n",
            "Epoch 175/200\n",
            "32/32 [==============================] - 0s 4ms/step - loss: 0.4319 - accuracy: 0.8259 - val_loss: 1.4973 - val_accuracy: 0.6901\n",
            "Epoch 176/200\n",
            "32/32 [==============================] - 0s 4ms/step - loss: 0.4306 - accuracy: 0.8231 - val_loss: 1.5117 - val_accuracy: 0.6981\n",
            "Epoch 177/200\n",
            "32/32 [==============================] - 0s 4ms/step - loss: 0.4315 - accuracy: 0.8272 - val_loss: 1.5073 - val_accuracy: 0.6879\n",
            "Epoch 178/200\n",
            "32/32 [==============================] - 0s 4ms/step - loss: 0.4310 - accuracy: 0.8241 - val_loss: 1.5079 - val_accuracy: 0.6981\n",
            "Epoch 179/200\n",
            "32/32 [==============================] - 0s 4ms/step - loss: 0.4311 - accuracy: 0.8259 - val_loss: 1.5051 - val_accuracy: 0.6890\n",
            "Epoch 180/200\n",
            "32/32 [==============================] - 0s 4ms/step - loss: 0.4306 - accuracy: 0.8219 - val_loss: 1.5013 - val_accuracy: 0.7072\n",
            "Epoch 181/200\n",
            "32/32 [==============================] - 0s 4ms/step - loss: 0.4300 - accuracy: 0.8241 - val_loss: 1.5121 - val_accuracy: 0.6958\n",
            "Epoch 182/200\n",
            "32/32 [==============================] - 0s 4ms/step - loss: 0.4306 - accuracy: 0.8294 - val_loss: 1.5091 - val_accuracy: 0.7060\n",
            "Epoch 183/200\n",
            "32/32 [==============================] - 0s 4ms/step - loss: 0.4314 - accuracy: 0.8238 - val_loss: 1.4990 - val_accuracy: 0.7015\n",
            "Epoch 184/200\n",
            "32/32 [==============================] - 0s 4ms/step - loss: 0.4302 - accuracy: 0.8250 - val_loss: 1.4999 - val_accuracy: 0.7015\n",
            "Epoch 185/200\n",
            "32/32 [==============================] - 0s 4ms/step - loss: 0.4306 - accuracy: 0.8278 - val_loss: 1.5107 - val_accuracy: 0.6935\n",
            "Epoch 186/200\n",
            "32/32 [==============================] - 0s 4ms/step - loss: 0.4312 - accuracy: 0.8259 - val_loss: 1.5035 - val_accuracy: 0.7072\n",
            "Epoch 187/200\n",
            "32/32 [==============================] - 0s 4ms/step - loss: 0.4309 - accuracy: 0.8259 - val_loss: 1.5108 - val_accuracy: 0.6913\n",
            "Epoch 188/200\n",
            "32/32 [==============================] - 0s 4ms/step - loss: 0.4304 - accuracy: 0.8234 - val_loss: 1.5138 - val_accuracy: 0.6901\n",
            "Epoch 189/200\n",
            "32/32 [==============================] - 0s 4ms/step - loss: 0.4304 - accuracy: 0.8256 - val_loss: 1.4974 - val_accuracy: 0.7015\n",
            "Epoch 190/200\n",
            "32/32 [==============================] - 0s 4ms/step - loss: 0.4301 - accuracy: 0.8259 - val_loss: 1.5108 - val_accuracy: 0.7026\n",
            "Epoch 191/200\n",
            "32/32 [==============================] - 0s 4ms/step - loss: 0.4294 - accuracy: 0.8238 - val_loss: 1.5091 - val_accuracy: 0.7003\n",
            "Epoch 192/200\n",
            "32/32 [==============================] - 0s 4ms/step - loss: 0.4295 - accuracy: 0.8288 - val_loss: 1.5070 - val_accuracy: 0.7037\n",
            "Epoch 193/200\n",
            "32/32 [==============================] - 0s 4ms/step - loss: 0.4302 - accuracy: 0.8259 - val_loss: 1.5132 - val_accuracy: 0.7003\n",
            "Epoch 194/200\n",
            "32/32 [==============================] - 0s 9ms/step - loss: 0.4303 - accuracy: 0.8222 - val_loss: 1.5026 - val_accuracy: 0.7140\n",
            "Epoch 195/200\n",
            "32/32 [==============================] - 0s 4ms/step - loss: 0.4303 - accuracy: 0.8253 - val_loss: 1.5060 - val_accuracy: 0.7060\n",
            "Epoch 196/200\n",
            "32/32 [==============================] - 0s 4ms/step - loss: 0.4305 - accuracy: 0.8291 - val_loss: 1.5207 - val_accuracy: 0.7003\n",
            "Epoch 197/200\n",
            "32/32 [==============================] - 0s 4ms/step - loss: 0.4300 - accuracy: 0.8266 - val_loss: 1.5226 - val_accuracy: 0.7083\n",
            "Epoch 198/200\n",
            "32/32 [==============================] - 0s 4ms/step - loss: 0.4301 - accuracy: 0.8263 - val_loss: 1.5259 - val_accuracy: 0.6981\n",
            "Epoch 199/200\n",
            "32/32 [==============================] - 0s 4ms/step - loss: 0.4299 - accuracy: 0.8284 - val_loss: 1.5140 - val_accuracy: 0.6901\n",
            "Epoch 200/200\n",
            "32/32 [==============================] - 0s 4ms/step - loss: 0.4296 - accuracy: 0.8259 - val_loss: 1.5111 - val_accuracy: 0.7026\n"
          ],
          "name": "stdout"
        }
      ]
    },
    {
      "cell_type": "code",
      "metadata": {
        "id": "fu6YWv7VUQ_6",
        "colab_type": "code",
        "colab": {
          "base_uri": "https://localhost:8080/",
          "height": 34
        },
        "outputId": "28b5b882-46aa-4abf-c1db-15d67f200534"
      },
      "source": [
        "history_dict.keys()"
      ],
      "execution_count": 22,
      "outputs": [
        {
          "output_type": "execute_result",
          "data": {
            "text/plain": [
              "dict_keys(['loss', 'accuracy', 'val_loss', 'val_accuracy'])"
            ]
          },
          "metadata": {
            "tags": []
          },
          "execution_count": 22
        }
      ]
    },
    {
      "cell_type": "code",
      "metadata": {
        "id": "0EVqOsjUTveA",
        "colab_type": "code",
        "colab": {
          "base_uri": "https://localhost:8080/",
          "height": 573
        },
        "outputId": "7058283b-7f4f-4fb8-8c49-7dc97a6ea0b8"
      },
      "source": [
        "history_dict = history.history\n",
        "\n",
        "import matplotlib.pyplot as plt\n",
        "history_dict = history.history\n",
        "loss_values = history_dict['loss']\n",
        "val_loss_values = history_dict['val_loss']\n",
        "epochs = range(1, len(loss_values) + 1)\n",
        "plt.plot(epochs, loss_values, 'bo', label='Training loss')\n",
        "plt.plot(epochs, val_loss_values, 'b', label='Validation loss')\n",
        "plt.title('Training and validation loss')\n",
        "plt.xlabel('Epochs')\n",
        "plt.ylabel('Loss')\n",
        "plt.legend()\n",
        "plt.show()\n",
        "\n",
        "plt.clf()\n",
        "acc = history_dict['accuracy']\n",
        "val_acc = history_dict['val_accuracy']\n",
        "plt.plot(epochs, acc, 'bo', label='Training acc')\n",
        "plt.plot(epochs, val_acc, 'b', label='Validation acc')\n",
        "plt.title('Training and validation accuracy')\n",
        "plt.xlabel('Epochs')\n",
        "plt.ylabel('Accuracy')\n",
        "plt.legend()\n",
        "plt.show()"
      ],
      "execution_count": 23,
      "outputs": [
        {
          "output_type": "display_data",
          "data": {
            "image/png": "[encoded data removed]",
            "text/plain": [
              "<Figure size 432x288 with 1 Axes>"
            ]
          },
          "metadata": {
            "tags": [],
            "needs_background": "light"
          }
        },
        {
          "output_type": "display_data",
          "data": {
            "image/png": "[encoded data removed]",
            "text/plain": [
              "<Figure size 432x288 with 1 Axes>"
            ]
          },
          "metadata": {
            "tags": [],
            "needs_background": "light"
          }
        }
      ]
    },
    {
      "cell_type": "code",
      "metadata": {
        "id": "-DnAC-HuUY3F",
        "colab_type": "code",
        "colab": {}
      },
      "source": [
        ""
      ],
      "execution_count": null,
      "outputs": []
    }
  ]
}