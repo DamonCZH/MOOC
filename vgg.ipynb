{
  "nbformat": 4,
  "nbformat_minor": 0,
  "metadata": {
    "colab": {
      "name": "vgg.ipynb",
      "provenance": []
    },
    "kernelspec": {
      "name": "python3",
      "display_name": "Python 3"
    }
  },
  "cells": [
    {
      "cell_type": "markdown",
      "metadata": {
        "id": "FP3XKtoLcNKS",
        "colab_type": "text"
      },
      "source": [
        "读取json格式数据"
      ]
    },
    {
      "cell_type": "code",
      "metadata": {
        "id": "8VGEUNjqUjue",
        "colab_type": "code",
        "colab": {
          "base_uri": "https://localhost:8080/",
          "height": 195
        },
        "outputId": "28ae85de-73fa-42af-e8b2-5a0b013cdf07"
      },
      "source": [
        "import tensorflow as tf \n",
        "import numpy as np \n",
        "import pandas as pd \n",
        "\n",
        "# 读取数据\n",
        "data = pd.read_json('data.json')\n",
        "data.head()"
      ],
      "execution_count": 14,
      "outputs": [
        {
          "output_type": "execute_result",
          "data": {
            "text/html": [
              "<div>\n",
              "<style scoped>\n",
              "    .dataframe tbody tr th:only-of-type {\n",
              "        vertical-align: middle;\n",
              "    }\n",
              "\n",
              "    .dataframe tbody tr th {\n",
              "        vertical-align: top;\n",
              "    }\n",
              "\n",
              "    .dataframe thead th {\n",
              "        text-align: right;\n",
              "    }\n",
              "</style>\n",
              "<table border=\"1\" class=\"dataframe\">\n",
              "  <thead>\n",
              "    <tr style=\"text-align: right;\">\n",
              "      <th></th>\n",
              "      <th>x</th>\n",
              "      <th>y</th>\n",
              "    </tr>\n",
              "  </thead>\n",
              "  <tbody>\n",
              "    <tr>\n",
              "      <th>0</th>\n",
              "      <td>[0, 0, 0, 0, 0, 0, 0, 0, 0, 0, 0, 0, 0, 0, 0, ...</td>\n",
              "      <td>0</td>\n",
              "    </tr>\n",
              "    <tr>\n",
              "      <th>1</th>\n",
              "      <td>[0, 0, 0, 0, 0, 0, 0, 0, 0, 0, 0, 0, 0, 0, 0, ...</td>\n",
              "      <td>2</td>\n",
              "    </tr>\n",
              "    <tr>\n",
              "      <th>2</th>\n",
              "      <td>[0, 0, 0, 0, 0, 0, 0, 0, 0, 0, 0, 0, 0, 0, 0, ...</td>\n",
              "      <td>2</td>\n",
              "    </tr>\n",
              "    <tr>\n",
              "      <th>3</th>\n",
              "      <td>[2, 2, 2, 0, 0, 0, 0, 0, 0, 0, 0, 0, 0, 0, 0, ...</td>\n",
              "      <td>0</td>\n",
              "    </tr>\n",
              "    <tr>\n",
              "      <th>4</th>\n",
              "      <td>[0, 0, 0, 0, 0, 0, 0, 0, 0, 0, 0, 0, 0, 0, 0, ...</td>\n",
              "      <td>0</td>\n",
              "    </tr>\n",
              "  </tbody>\n",
              "</table>\n",
              "</div>"
            ],
            "text/plain": [
              "                                                   x  y\n",
              "0  [0, 0, 0, 0, 0, 0, 0, 0, 0, 0, 0, 0, 0, 0, 0, ...  0\n",
              "1  [0, 0, 0, 0, 0, 0, 0, 0, 0, 0, 0, 0, 0, 0, 0, ...  2\n",
              "2  [0, 0, 0, 0, 0, 0, 0, 0, 0, 0, 0, 0, 0, 0, 0, ...  2\n",
              "3  [2, 2, 2, 0, 0, 0, 0, 0, 0, 0, 0, 0, 0, 0, 0, ...  0\n",
              "4  [0, 0, 0, 0, 0, 0, 0, 0, 0, 0, 0, 0, 0, 0, 0, ...  0"
            ]
          },
          "metadata": {
            "tags": []
          },
          "execution_count": 14
        }
      ]
    },
    {
      "cell_type": "markdown",
      "metadata": {
        "id": "Pk1R8-xucTvD",
        "colab_type": "text"
      },
      "source": [
        "将数据转换为numpy array，以便输入模型训练"
      ]
    },
    {
      "cell_type": "code",
      "metadata": {
        "id": "kZYJ9CYTVcYd",
        "colab_type": "code",
        "colab": {
          "base_uri": "https://localhost:8080/",
          "height": 34
        },
        "outputId": "874da6ce-72a3-4d74-9de2-243b2569e788"
      },
      "source": [
        "temp_data = []\n",
        "for i in range(len(data['x'])):\n",
        "  temp_data.append(np.asarray(data['x'][i]))\n",
        "\n",
        "print(temp_data[0])\n",
        "\n",
        "#dataset = tf.data.Dataset.from_tensor_slices((data['x'].values, data['y'].values))"
      ],
      "execution_count": 15,
      "outputs": [
        {
          "output_type": "stream",
          "text": [
            "[0.     0.     0.     ... 0.0036 0.     0.    ]\n"
          ],
          "name": "stdout"
        }
      ]
    },
    {
      "cell_type": "markdown",
      "metadata": {
        "id": "A5wIqLlUekbB",
        "colab_type": "text"
      },
      "source": [
        "将数据和对应的标签分别提取出来，并将标签编码为独热码"
      ]
    },
    {
      "cell_type": "code",
      "metadata": {
        "id": "aYLEhJwwYmgg",
        "colab_type": "code",
        "colab": {}
      },
      "source": [
        "alldata = np.asarray(temp_data)\n",
        "allabel = np.asarray(data['y'])\n"
      ],
      "execution_count": 16,
      "outputs": []
    },
    {
      "cell_type": "code",
      "metadata": {
        "id": "q9JLtX0Me5xN",
        "colab_type": "code",
        "colab": {
          "base_uri": "https://localhost:8080/",
          "height": 134
        },
        "outputId": "875a811b-a976-4433-e00c-62871190b706"
      },
      "source": [
        "from keras.utils.np_utils import to_categorical\n",
        "allabel = to_categorical(allabel)\n",
        "print(allabel)"
      ],
      "execution_count": 17,
      "outputs": [
        {
          "output_type": "stream",
          "text": [
            "[[1. 0. 0.]\n",
            " [0. 0. 1.]\n",
            " [0. 0. 1.]\n",
            " ...\n",
            " [1. 0. 0.]\n",
            " [1. 0. 0.]\n",
            " [1. 0. 0.]]\n"
          ],
          "name": "stdout"
        }
      ]
    },
    {
      "cell_type": "code",
      "metadata": {
        "id": "I3OfwPBnqmac",
        "colab_type": "code",
        "colab": {
          "base_uri": "https://localhost:8080/",
          "height": 34
        },
        "outputId": "cfff3d1a-ca31-4b18-bf1b-c0df8c383962"
      },
      "source": [
        "alldata = np.expand_dims(alldata, axis=2)\n",
        "alldata.shape"
      ],
      "execution_count": 18,
      "outputs": [
        {
          "output_type": "execute_result",
          "data": {
            "text/plain": [
              "(4081, 1147, 1)"
            ]
          },
          "metadata": {
            "tags": []
          },
          "execution_count": 18
        }
      ]
    },
    {
      "cell_type": "markdown",
      "metadata": {
        "id": "iH9iyCaserFC",
        "colab_type": "text"
      },
      "source": [
        "将所有数据分割为训练集和测试集"
      ]
    },
    {
      "cell_type": "code",
      "metadata": {
        "id": "trdb61ViRKTC",
        "colab_type": "code",
        "colab": {}
      },
      "source": [
        "x_train = alldata[:3200]\n",
        "x_test = alldata[3200:]\n",
        "y_train = allabel[:3200]\n",
        "y_test = allabel[3200:]"
      ],
      "execution_count": 19,
      "outputs": []
    },
    {
      "cell_type": "markdown",
      "metadata": {
        "id": "gVsLCqOwexui",
        "colab_type": "text"
      },
      "source": [
        "搭建网络"
      ]
    },
    {
      "cell_type": "code",
      "metadata": {
        "id": "G7i8gFhRgQA9",
        "colab_type": "code",
        "colab": {}
      },
      "source": [
        "from tensorflow.keras import models\n",
        "from tensorflow.keras import layers"
      ],
      "execution_count": 20,
      "outputs": []
    },
    {
      "cell_type": "code",
      "metadata": {
        "id": "ssNv-kZso6kS",
        "colab_type": "code",
        "colab": {
          "base_uri": "https://localhost:8080/",
          "height": 353
        },
        "outputId": "974a0f57-5718-4ed7-a0f9-51f4769ad97c"
      },
      "source": [
        "vgg = models.Sequential()\n",
        "\n",
        "vgg.add(layers.Conv1D(64, kernel_size=3, activation='relu', input_shape=(1147,1)))\n",
        "vgg.add(layers.Conv1D(64, kernel_size=3, activation='relu'))\n",
        "vgg.add(layers.MaxPool1D())\n",
        "\n",
        "'''vgg.add(layers.Conv1D(128, kernel_size=3, activation='relu'))\n",
        "vgg.add(layers.Conv1D(128, kernel_size=3, activation='relu'))\n",
        "vgg.add(layers.MaxPool1D())\n",
        "\n",
        "vgg.add(layers.Conv1D(256, kernel_size=3, activation='relu'))\n",
        "vgg.add(layers.Conv1D(256, kernel_size=3, activation='relu'))\n",
        "vgg.add(layers.Conv1D(256, kernel_size=3, activation='relu'))\n",
        "vgg.add(layers.MaxPool1D())\n",
        "\n",
        "vgg.add(layers.Conv1D(512, kernel_size=3, activation='relu'))\n",
        "vgg.add(layers.Conv1D(512, kernel_size=3, activation='relu'))\n",
        "vgg.add(layers.Conv1D(512, kernel_size=3, activation='relu'))\n",
        "vgg.add(layers.MaxPool1D())\n",
        "\n",
        "vgg.add(layers.Conv1D(512, kernel_size=3, activation='relu'))\n",
        "vgg.add(layers.Conv1D(512, kernel_size=3, activation='relu'))\n",
        "vgg.add(layers.Conv1D(512, kernel_size=3, activation='relu'))\n",
        "vgg.add(layers.MaxPool1D())'''\n",
        "\n",
        "vgg.add(layers.Flatten())\n",
        "vgg.add(layers.Dense(64, activation='relu'))\n",
        "vgg.add(layers.Dense(3, activation='softmax'))\n",
        "vgg.summary()"
      ],
      "execution_count": 21,
      "outputs": [
        {
          "output_type": "stream",
          "text": [
            "Model: \"sequential_2\"\n",
            "_________________________________________________________________\n",
            "Layer (type)                 Output Shape              Param #   \n",
            "=================================================================\n",
            "conv1d_15 (Conv1D)           (None, 1145, 64)          256       \n",
            "_________________________________________________________________\n",
            "conv1d_16 (Conv1D)           (None, 1143, 64)          12352     \n",
            "_________________________________________________________________\n",
            "max_pooling1d_6 (MaxPooling1 (None, 571, 64)           0         \n",
            "_________________________________________________________________\n",
            "flatten_2 (Flatten)          (None, 36544)             0         \n",
            "_________________________________________________________________\n",
            "dense_4 (Dense)              (None, 64)                2338880   \n",
            "_________________________________________________________________\n",
            "dense_5 (Dense)              (None, 3)                 195       \n",
            "=================================================================\n",
            "Total params: 2,351,683\n",
            "Trainable params: 2,351,683\n",
            "Non-trainable params: 0\n",
            "_________________________________________________________________\n"
          ],
          "name": "stdout"
        }
      ]
    },
    {
      "cell_type": "code",
      "metadata": {
        "id": "x1SmGK918w2W",
        "colab_type": "code",
        "colab": {}
      },
      "source": [
        "'''from keras import losses\n",
        "from keras import metrics\n",
        "vgg.compile(optimizer=optimizers.RMSprop(lr=0.001),\n",
        "      loss=losses.binary_crossentropy,\n",
        "      metrics=[metrics.binary_accuracy])'''"
      ],
      "execution_count": null,
      "outputs": []
    },
    {
      "cell_type": "markdown",
      "metadata": {
        "id": "XLDlJovwezPf",
        "colab_type": "text"
      },
      "source": [
        "训练网络"
      ]
    },
    {
      "cell_type": "code",
      "metadata": {
        "id": "4ftsEy08cnDW",
        "colab_type": "code",
        "colab": {
          "base_uri": "https://localhost:8080/",
          "height": 1000
        },
        "outputId": "38de3f5b-7832-410b-aee0-4b4ccc10c2a5"
      },
      "source": [
        "vgg.compile(optimizer='rmsprop',\n",
        "        loss='categorical_crossentropy',\n",
        "        metrics=['accuracy'])\n",
        "\n",
        "history = vgg.fit(x_train,\n",
        "          y_train,\n",
        "          epochs=50,\n",
        "          batch_size=100,\n",
        "          validation_data=(x_test, y_test))"
      ],
      "execution_count": 22,
      "outputs": [
        {
          "output_type": "stream",
          "text": [
            "Epoch 1/50\n",
            "32/32 [==============================] - 11s 349ms/step - loss: 0.8620 - accuracy: 0.6131 - val_loss: 0.7605 - val_accuracy: 0.6867\n",
            "Epoch 2/50\n",
            "32/32 [==============================] - 11s 345ms/step - loss: 0.7649 - accuracy: 0.6794 - val_loss: 0.7516 - val_accuracy: 0.6822\n",
            "Epoch 3/50\n",
            "32/32 [==============================] - 11s 345ms/step - loss: 0.7192 - accuracy: 0.6997 - val_loss: 0.7463 - val_accuracy: 0.6958\n",
            "Epoch 4/50\n",
            "32/32 [==============================] - 11s 345ms/step - loss: 0.6818 - accuracy: 0.7275 - val_loss: 0.7340 - val_accuracy: 0.7049\n",
            "Epoch 5/50\n",
            "32/32 [==============================] - 11s 346ms/step - loss: 0.6330 - accuracy: 0.7459 - val_loss: 0.7644 - val_accuracy: 0.7060\n",
            "Epoch 6/50\n",
            "32/32 [==============================] - 11s 345ms/step - loss: 0.5958 - accuracy: 0.7606 - val_loss: 0.8362 - val_accuracy: 0.7060\n",
            "Epoch 7/50\n",
            "32/32 [==============================] - 11s 346ms/step - loss: 0.5750 - accuracy: 0.7634 - val_loss: 0.8175 - val_accuracy: 0.6958\n",
            "Epoch 8/50\n",
            "32/32 [==============================] - 11s 349ms/step - loss: 0.5461 - accuracy: 0.7853 - val_loss: 0.9279 - val_accuracy: 0.6879\n",
            "Epoch 9/50\n",
            "32/32 [==============================] - 11s 346ms/step - loss: 0.5369 - accuracy: 0.7906 - val_loss: 0.8931 - val_accuracy: 0.7094\n",
            "Epoch 10/50\n",
            "32/32 [==============================] - 11s 345ms/step - loss: 0.5225 - accuracy: 0.7959 - val_loss: 0.9430 - val_accuracy: 0.6969\n",
            "Epoch 11/50\n",
            "32/32 [==============================] - 11s 347ms/step - loss: 0.5110 - accuracy: 0.7978 - val_loss: 0.9672 - val_accuracy: 0.6981\n",
            "Epoch 12/50\n",
            "32/32 [==============================] - 11s 346ms/step - loss: 0.5059 - accuracy: 0.7978 - val_loss: 0.9433 - val_accuracy: 0.7003\n",
            "Epoch 13/50\n",
            "32/32 [==============================] - 11s 347ms/step - loss: 0.4953 - accuracy: 0.7994 - val_loss: 1.0147 - val_accuracy: 0.6856\n",
            "Epoch 14/50\n",
            "32/32 [==============================] - 11s 346ms/step - loss: 0.4936 - accuracy: 0.8022 - val_loss: 1.0116 - val_accuracy: 0.6924\n",
            "Epoch 15/50\n",
            "32/32 [==============================] - 11s 346ms/step - loss: 0.4886 - accuracy: 0.8028 - val_loss: 1.0126 - val_accuracy: 0.7003\n",
            "Epoch 16/50\n",
            "32/32 [==============================] - 11s 345ms/step - loss: 0.4818 - accuracy: 0.8075 - val_loss: 1.0437 - val_accuracy: 0.6867\n",
            "Epoch 17/50\n",
            "32/32 [==============================] - 11s 347ms/step - loss: 0.4793 - accuracy: 0.8062 - val_loss: 1.0366 - val_accuracy: 0.6935\n",
            "Epoch 18/50\n",
            "32/32 [==============================] - 11s 346ms/step - loss: 0.4763 - accuracy: 0.8131 - val_loss: 1.0626 - val_accuracy: 0.6867\n",
            "Epoch 19/50\n",
            "32/32 [==============================] - 11s 347ms/step - loss: 0.4742 - accuracy: 0.8103 - val_loss: 1.0668 - val_accuracy: 0.6958\n",
            "Epoch 20/50\n",
            "32/32 [==============================] - 11s 345ms/step - loss: 0.4747 - accuracy: 0.8122 - val_loss: 1.0361 - val_accuracy: 0.6856\n",
            "Epoch 21/50\n",
            "32/32 [==============================] - 11s 346ms/step - loss: 0.4724 - accuracy: 0.8106 - val_loss: 1.0597 - val_accuracy: 0.6879\n",
            "Epoch 22/50\n",
            "32/32 [==============================] - 11s 345ms/step - loss: 0.4715 - accuracy: 0.8112 - val_loss: 1.0358 - val_accuracy: 0.6856\n",
            "Epoch 23/50\n",
            "32/32 [==============================] - 11s 345ms/step - loss: 0.4673 - accuracy: 0.8122 - val_loss: 1.0556 - val_accuracy: 0.6913\n",
            "Epoch 24/50\n",
            "32/32 [==============================] - 11s 348ms/step - loss: 0.4667 - accuracy: 0.8084 - val_loss: 1.1125 - val_accuracy: 0.6901\n",
            "Epoch 25/50\n",
            "32/32 [==============================] - 11s 345ms/step - loss: 0.4644 - accuracy: 0.8119 - val_loss: 1.0945 - val_accuracy: 0.6754\n",
            "Epoch 26/50\n",
            "32/32 [==============================] - 11s 345ms/step - loss: 0.4654 - accuracy: 0.8100 - val_loss: 1.0905 - val_accuracy: 0.6833\n",
            "Epoch 27/50\n",
            "32/32 [==============================] - 11s 347ms/step - loss: 0.4656 - accuracy: 0.8128 - val_loss: 1.0681 - val_accuracy: 0.6924\n",
            "Epoch 28/50\n",
            "32/32 [==============================] - 11s 347ms/step - loss: 0.4617 - accuracy: 0.8138 - val_loss: 1.0779 - val_accuracy: 0.6810\n",
            "Epoch 29/50\n",
            "32/32 [==============================] - 11s 345ms/step - loss: 0.4623 - accuracy: 0.8144 - val_loss: 1.0754 - val_accuracy: 0.6879\n",
            "Epoch 30/50\n",
            "32/32 [==============================] - 11s 345ms/step - loss: 0.4653 - accuracy: 0.8084 - val_loss: 1.0955 - val_accuracy: 0.6924\n",
            "Epoch 31/50\n",
            "32/32 [==============================] - 11s 346ms/step - loss: 0.4625 - accuracy: 0.8141 - val_loss: 1.0843 - val_accuracy: 0.6754\n",
            "Epoch 32/50\n",
            "32/32 [==============================] - 11s 343ms/step - loss: 0.4578 - accuracy: 0.8138 - val_loss: 1.0872 - val_accuracy: 0.6981\n",
            "Epoch 33/50\n",
            "32/32 [==============================] - 11s 346ms/step - loss: 0.4602 - accuracy: 0.8125 - val_loss: 1.0612 - val_accuracy: 0.6731\n",
            "Epoch 34/50\n",
            "32/32 [==============================] - 11s 347ms/step - loss: 0.4569 - accuracy: 0.8184 - val_loss: 1.0940 - val_accuracy: 0.6844\n",
            "Epoch 35/50\n",
            "32/32 [==============================] - 11s 348ms/step - loss: 0.4561 - accuracy: 0.8122 - val_loss: 1.1004 - val_accuracy: 0.6822\n",
            "Epoch 36/50\n",
            "32/32 [==============================] - 11s 345ms/step - loss: 0.4596 - accuracy: 0.8081 - val_loss: 1.0762 - val_accuracy: 0.6856\n",
            "Epoch 37/50\n",
            "32/32 [==============================] - 11s 346ms/step - loss: 0.4553 - accuracy: 0.8153 - val_loss: 1.0704 - val_accuracy: 0.6776\n",
            "Epoch 38/50\n",
            "32/32 [==============================] - 11s 348ms/step - loss: 0.4555 - accuracy: 0.8159 - val_loss: 1.0944 - val_accuracy: 0.6720\n",
            "Epoch 39/50\n",
            "32/32 [==============================] - 11s 346ms/step - loss: 0.4547 - accuracy: 0.8141 - val_loss: 1.0925 - val_accuracy: 0.6686\n",
            "Epoch 40/50\n",
            "32/32 [==============================] - 11s 348ms/step - loss: 0.4543 - accuracy: 0.8169 - val_loss: 1.0980 - val_accuracy: 0.6856\n",
            "Epoch 41/50\n",
            "32/32 [==============================] - 11s 345ms/step - loss: 0.4523 - accuracy: 0.8134 - val_loss: 1.0726 - val_accuracy: 0.6879\n",
            "Epoch 42/50\n",
            "32/32 [==============================] - 11s 345ms/step - loss: 0.4551 - accuracy: 0.8128 - val_loss: 1.1048 - val_accuracy: 0.6708\n",
            "Epoch 43/50\n",
            "32/32 [==============================] - 11s 347ms/step - loss: 0.4508 - accuracy: 0.8163 - val_loss: 1.1002 - val_accuracy: 0.6697\n",
            "Epoch 44/50\n",
            "32/32 [==============================] - 11s 345ms/step - loss: 0.4530 - accuracy: 0.8134 - val_loss: 1.0645 - val_accuracy: 0.6844\n",
            "Epoch 45/50\n",
            "32/32 [==============================] - 11s 345ms/step - loss: 0.4527 - accuracy: 0.8125 - val_loss: 1.0745 - val_accuracy: 0.6856\n",
            "Epoch 46/50\n",
            "32/32 [==============================] - 11s 345ms/step - loss: 0.4471 - accuracy: 0.8191 - val_loss: 1.1094 - val_accuracy: 0.6844\n",
            "Epoch 47/50\n",
            "32/32 [==============================] - 11s 345ms/step - loss: 0.4509 - accuracy: 0.8178 - val_loss: 1.1177 - val_accuracy: 0.6799\n",
            "Epoch 48/50\n",
            "32/32 [==============================] - 11s 344ms/step - loss: 0.4510 - accuracy: 0.8194 - val_loss: 1.1321 - val_accuracy: 0.6731\n",
            "Epoch 49/50\n",
            "32/32 [==============================] - 11s 346ms/step - loss: 0.4476 - accuracy: 0.8188 - val_loss: 1.0726 - val_accuracy: 0.6890\n",
            "Epoch 50/50\n",
            "32/32 [==============================] - 11s 347ms/step - loss: 0.4507 - accuracy: 0.8169 - val_loss: 1.0552 - val_accuracy: 0.6879\n"
          ],
          "name": "stdout"
        }
      ]
    },
    {
      "cell_type": "markdown",
      "metadata": {
        "id": "nkxXvyKAe1VT",
        "colab_type": "text"
      },
      "source": [
        "绘制准确率曲线"
      ]
    },
    {
      "cell_type": "code",
      "metadata": {
        "id": "0EVqOsjUTveA",
        "colab_type": "code",
        "colab": {
          "base_uri": "https://localhost:8080/",
          "height": 295
        },
        "outputId": "cff24c0c-f8ab-431e-b0a5-b8ef814d3af6"
      },
      "source": [
        "import matplotlib.pyplot as plt\n",
        "history_dict = history.history\n",
        "loss_values = history_dict['loss']\n",
        "val_loss_values = history_dict['val_loss']\n",
        "epochs = range(1, len(loss_values) + 1)\n",
        "\n",
        "'''plt.plot(epochs, loss_values, 'bo', label='Training loss')\n",
        "plt.plot(epochs, val_loss_values, 'b', label='Validation loss')\n",
        "plt.title('Training and validation loss')\n",
        "plt.xlabel('Epochs')\n",
        "plt.ylabel('Loss')\n",
        "plt.legend()\n",
        "plt.show()'''\n",
        "\n",
        "plt.clf()\n",
        "acc = history_dict['accuracy']\n",
        "val_acc = history_dict['val_accuracy']\n",
        "plt.plot(epochs, acc, 'bo', label='Training acc')\n",
        "plt.plot(epochs, val_acc, 'b', label='Validation acc')\n",
        "plt.title('Training and validation accuracy')\n",
        "plt.xlabel('Epochs')\n",
        "plt.ylabel('Accuracy')\n",
        "plt.legend()\n",
        "plt.show()"
      ],
      "execution_count": 24,
      "outputs": [
        {
          "output_type": "display_data",
          "data": {
            "image/png": "[encoded data removed]",
            "text/plain": [
              "<Figure size 432x288 with 1 Axes>"
            ]
          },
          "metadata": {
            "tags": [],
            "needs_background": "light"
          }
        }
      ]
    },
    {
      "cell_type": "code",
      "metadata": {
        "id": "371bdHTF6ejP",
        "colab_type": "code",
        "colab": {}
      },
      "source": [
        ""
      ],
      "execution_count": null,
      "outputs": []
    }
  ]
}